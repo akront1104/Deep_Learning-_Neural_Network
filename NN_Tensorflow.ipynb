{
 "cells": [
  {
   "cell_type": "code",
   "execution_count": 1,
   "metadata": {
    "_cell_guid": "b1076dfc-b9ad-4769-8c92-a6c4dae69d19",
    "_uuid": "8f2839f25d086af736a60e9eeb907d3b93b6e0e5"
   },
   "outputs": [
    {
     "name": "stdout",
     "output_type": "stream",
     "text": [
      "Collecting tensorflow==2.0.0-alpha0\r\n",
      "\u001b[?25l  Downloading https://files.pythonhosted.org/packages/29/39/f99185d39131b8333afcfe1dcdb0629c2ffc4ecfb0e4c14ca210d620e56c/tensorflow-2.0.0a0-cp36-cp36m-manylinux1_x86_64.whl (79.9MB)\r\n",
      "\u001b[K     |████████████████████████████████| 79.9MB 46.8MB/s \r\n",
      "\u001b[?25hRequirement already satisfied, skipping upgrade: protobuf>=3.6.1 in /opt/conda/lib/python3.6/site-packages (from tensorflow==2.0.0-alpha0) (3.7.1)\r\n",
      "Collecting tf-estimator-nightly<1.14.0.dev2019030116,>=1.14.0.dev2019030115 (from tensorflow==2.0.0-alpha0)\r\n",
      "\u001b[?25l  Downloading https://files.pythonhosted.org/packages/13/82/f16063b4eed210dc2ab057930ac1da4fbe1e91b7b051a6c8370b401e6ae7/tf_estimator_nightly-1.14.0.dev2019030115-py2.py3-none-any.whl (411kB)\r\n",
      "\u001b[K     |████████████████████████████████| 419kB 35.2MB/s \r\n",
      "\u001b[?25hRequirement already satisfied, skipping upgrade: wheel>=0.26 in /opt/conda/lib/python3.6/site-packages (from tensorflow==2.0.0-alpha0) (0.33.6)\r\n",
      "Collecting tb-nightly<1.14.0a20190302,>=1.14.0a20190301 (from tensorflow==2.0.0-alpha0)\r\n",
      "\u001b[?25l  Downloading https://files.pythonhosted.org/packages/a9/51/aa1d756644bf4624c03844115e4ac4058eff77acd786b26315f051a4b195/tb_nightly-1.14.0a20190301-py3-none-any.whl (3.0MB)\r\n",
      "\u001b[K     |████████████████████████████████| 3.0MB 35.9MB/s \r\n",
      "\u001b[?25hRequirement already satisfied, skipping upgrade: six>=1.10.0 in /opt/conda/lib/python3.6/site-packages (from tensorflow==2.0.0-alpha0) (1.12.0)\r\n",
      "Requirement already satisfied, skipping upgrade: termcolor>=1.1.0 in /opt/conda/lib/python3.6/site-packages (from tensorflow==2.0.0-alpha0) (1.1.0)\r\n",
      "Requirement already satisfied, skipping upgrade: keras-applications>=1.0.6 in /opt/conda/lib/python3.6/site-packages (from tensorflow==2.0.0-alpha0) (1.0.8)\r\n",
      "Requirement already satisfied, skipping upgrade: google-pasta>=0.1.2 in /opt/conda/lib/python3.6/site-packages (from tensorflow==2.0.0-alpha0) (0.1.7)\r\n",
      "Requirement already satisfied, skipping upgrade: grpcio>=1.8.6 in /opt/conda/lib/python3.6/site-packages (from tensorflow==2.0.0-alpha0) (1.24.0)\r\n",
      "Requirement already satisfied, skipping upgrade: keras-preprocessing>=1.0.5 in /opt/conda/lib/python3.6/site-packages (from tensorflow==2.0.0-alpha0) (1.1.0)\r\n",
      "Requirement already satisfied, skipping upgrade: absl-py>=0.7.0 in /opt/conda/lib/python3.6/site-packages (from tensorflow==2.0.0-alpha0) (0.8.0)\r\n",
      "Requirement already satisfied, skipping upgrade: numpy<2.0,>=1.14.5 in /opt/conda/lib/python3.6/site-packages (from tensorflow==2.0.0-alpha0) (1.16.4)\r\n",
      "Requirement already satisfied, skipping upgrade: astor>=0.6.0 in /opt/conda/lib/python3.6/site-packages (from tensorflow==2.0.0-alpha0) (0.8.0)\r\n",
      "Requirement already satisfied, skipping upgrade: gast>=0.2.0 in /opt/conda/lib/python3.6/site-packages (from tensorflow==2.0.0-alpha0) (0.3.2)\r\n",
      "Requirement already satisfied, skipping upgrade: setuptools in /opt/conda/lib/python3.6/site-packages (from protobuf>=3.6.1->tensorflow==2.0.0-alpha0) (41.2.0)\r\n",
      "Requirement already satisfied, skipping upgrade: werkzeug>=0.11.15 in /opt/conda/lib/python3.6/site-packages (from tb-nightly<1.14.0a20190302,>=1.14.0a20190301->tensorflow==2.0.0-alpha0) (0.16.0)\r\n",
      "Requirement already satisfied, skipping upgrade: markdown>=2.6.8 in /opt/conda/lib/python3.6/site-packages (from tb-nightly<1.14.0a20190302,>=1.14.0a20190301->tensorflow==2.0.0-alpha0) (3.1.1)\r\n",
      "Requirement already satisfied, skipping upgrade: h5py in /opt/conda/lib/python3.6/site-packages (from keras-applications>=1.0.6->tensorflow==2.0.0-alpha0) (2.9.0)\r\n",
      "Installing collected packages: tf-estimator-nightly, tb-nightly, tensorflow\r\n",
      "  Found existing installation: tensorflow 1.14.0\r\n",
      "    Uninstalling tensorflow-1.14.0:\r\n",
      "      Successfully uninstalled tensorflow-1.14.0\r\n",
      "Successfully installed tb-nightly-1.14.0a20190301 tensorflow-2.0.0a0 tf-estimator-nightly-1.14.0.dev2019030115\r\n"
     ]
    },
    {
     "name": "stderr",
     "output_type": "stream",
     "text": [
      "Using TensorFlow backend.\n"
     ]
    },
    {
     "name": "stdout",
     "output_type": "stream",
     "text": [
      "../input/fordham-cs6000-hw/mnist_data/mnist.trainlabel.npy\n",
      "../input/fordham-cs6000-hw/mnist_data/mnist.train.npy\n",
      "../input/fordham-cs6000-hw/mnist_data/mnist.test.npy\n",
      "../input/fordham-cs6000-hw/mnist_data/sample_submission.csv\n"
     ]
    }
   ],
   "source": [
    "# This Python 3 environment comes with many helpful analytics libraries installed\n",
    "# It is defined by the kaggle/python docker image: https://github.com/kaggle/docker-python\n",
    "# For example, here's several helpful packages to load in \n",
    "!pip install -U tensorflow==2.0.0-alpha0\n",
    "import numpy as np # linear algebra\n",
    "import pandas as pd # data processing, CSV file I/O (e.g. pd.read_csv)\n",
    "import keras\n",
    "from sklearn.preprocessing import LabelBinarizer\n",
    "import matplotlib.pyplot as plt\n",
    "%matplotlib inline\n",
    "\n",
    "# Input data files are available in the \"../input/\" directory.\n",
    "# For example, running this (by clicking run or pressing Shift+Enter) will list all files under the input directory\n",
    "\n",
    "import os\n",
    "for dirname, _, filenames in os.walk('../input'):\n",
    "    for filename in filenames:\n",
    "        print(os.path.join(dirname, filename))\n",
    "\n",
    "# Any results you write to the current directory are saved as output."
   ]
  },
  {
   "cell_type": "code",
   "execution_count": 2,
   "metadata": {},
   "outputs": [
    {
     "data": {
      "text/plain": [
       "1.0"
      ]
     },
     "execution_count": 2,
     "metadata": {},
     "output_type": "execute_result"
    }
   ],
   "source": [
    "x_train = np.load(\"../input/fordham-cs6000-hw/mnist_data/mnist.train.npy\")\n",
    "np.max(x_train) # Our data is already normalized"
   ]
  },
  {
   "cell_type": "code",
   "execution_count": 3,
   "metadata": {},
   "outputs": [
    {
     "data": {
      "text/plain": [
       "array([5, 5, 9, ..., 8, 0, 7])"
      ]
     },
     "execution_count": 3,
     "metadata": {},
     "output_type": "execute_result"
    }
   ],
   "source": [
    "y_train = np.load(\"../input/fordham-cs6000-hw/mnist_data/mnist.trainlabel.npy\")\n",
    "y_train # We will use one-hot encoding to convert values (0-9) to binary values"
   ]
  },
  {
   "cell_type": "code",
   "execution_count": 4,
   "metadata": {},
   "outputs": [
    {
     "data": {
      "text/plain": [
       "1.0"
      ]
     },
     "execution_count": 4,
     "metadata": {},
     "output_type": "execute_result"
    }
   ],
   "source": [
    "x_test = np.load(\"../input/fordham-cs6000-hw/mnist_data/mnist.test.npy\")\n",
    "np.max(x_test)"
   ]
  },
  {
   "cell_type": "code",
   "execution_count": 5,
   "metadata": {},
   "outputs": [
    {
     "data": {
      "text/html": [
       "<div>\n",
       "<style scoped>\n",
       "    .dataframe tbody tr th:only-of-type {\n",
       "        vertical-align: middle;\n",
       "    }\n",
       "\n",
       "    .dataframe tbody tr th {\n",
       "        vertical-align: top;\n",
       "    }\n",
       "\n",
       "    .dataframe thead th {\n",
       "        text-align: right;\n",
       "    }\n",
       "</style>\n",
       "<table border=\"1\" class=\"dataframe\">\n",
       "  <thead>\n",
       "    <tr style=\"text-align: right;\">\n",
       "      <th></th>\n",
       "      <th>class</th>\n",
       "    </tr>\n",
       "  </thead>\n",
       "  <tbody>\n",
       "    <tr>\n",
       "      <td>0</td>\n",
       "      <td>7</td>\n",
       "    </tr>\n",
       "    <tr>\n",
       "      <td>1</td>\n",
       "      <td>4</td>\n",
       "    </tr>\n",
       "    <tr>\n",
       "      <td>2</td>\n",
       "      <td>3</td>\n",
       "    </tr>\n",
       "    <tr>\n",
       "      <td>3</td>\n",
       "      <td>5</td>\n",
       "    </tr>\n",
       "    <tr>\n",
       "      <td>4</td>\n",
       "      <td>7</td>\n",
       "    </tr>\n",
       "  </tbody>\n",
       "</table>\n",
       "</div>"
      ],
      "text/plain": [
       "   class\n",
       "0      7\n",
       "1      4\n",
       "2      3\n",
       "3      5\n",
       "4      7"
      ]
     },
     "execution_count": 5,
     "metadata": {},
     "output_type": "execute_result"
    }
   ],
   "source": [
    "y_test = pd.read_csv(\"../input/fordham-cs6000-hw/mnist_data/sample_submission.csv\", usecols = ['class'])\n",
    "y_test.head()"
   ]
  },
  {
   "cell_type": "code",
   "execution_count": 6,
   "metadata": {},
   "outputs": [],
   "source": [
    "# Convert y_test from DataFrame to Numpy Array\n",
    "y_test = y_test.to_numpy()"
   ]
  },
  {
   "cell_type": "code",
   "execution_count": 7,
   "metadata": {},
   "outputs": [],
   "source": [
    "y_train = y_train.reshape(-1,1)\n",
    "y_test = y_test.reshape(-1,1)"
   ]
  },
  {
   "cell_type": "code",
   "execution_count": 8,
   "metadata": {},
   "outputs": [
    {
     "name": "stdout",
     "output_type": "stream",
     "text": [
      "x_train size: (56000, 28, 28)\n",
      "y_train size: (56000, 1)\n",
      "x_test size: (28000, 28, 28)\n"
     ]
    }
   ],
   "source": [
    "# Printing dimensions of our x_train and y_train\n",
    "print(\"x_train size:\", x_train.shape) # 56,000 images, each image of 28px by 28px\n",
    "print(\"y_train size:\", y_train.shape) # total classes (0-9 digits)\n",
    "print(\"x_test size:\", x_test.shape) # 28,000 images, each image of 28px by 28px"
   ]
  },
  {
   "cell_type": "code",
   "execution_count": 9,
   "metadata": {},
   "outputs": [
    {
     "data": {
      "image/png": "[encoded data removed]",
      "text/plain": [
       "<Figure size 432x288 with 1 Axes>"
      ]
     },
     "metadata": {
      "needs_background": "light"
     },
     "output_type": "display_data"
    }
   ],
   "source": [
    "plt.imshow(x_train[4])\n",
    "plt.show()"
   ]
  },
  {
   "cell_type": "markdown",
   "metadata": {},
   "source": [
    "2.One hot encode the labels - scaling the values between 0 and 1."
   ]
  },
  {
   "cell_type": "code",
   "execution_count": 10,
   "metadata": {},
   "outputs": [
    {
     "name": "stdout",
     "output_type": "stream",
     "text": [
      "Shape before one-hot encoding:  (56000, 1)\n",
      "Shape after one-hot encoding:  (56000, 10)\n"
     ]
    }
   ],
   "source": [
    "# one-hot encoding using keras' numpy-related utilities\n",
    "from keras.utils import np_utils\n",
    "\n",
    "n_classes = 10\n",
    "print(\"Shape before one-hot encoding: \", y_train.shape)\n",
    "\n",
    "Y_train = np_utils.to_categorical(y_train, n_classes)\n",
    "Y_test =  np_utils.to_categorical(y_test, n_classes)\n",
    "print(\"Shape after one-hot encoding: \", Y_train.shape)"
   ]
  },
  {
   "cell_type": "markdown",
   "metadata": {},
   "source": [
    "3. Convert each image matrix ( 28×28 ) to an array ( 28*28 = 784 dimenstional ) which will be fed to the network as a single feature."
   ]
  },
  {
   "cell_type": "code",
   "execution_count": 11,
   "metadata": {},
   "outputs": [],
   "source": [
    "# Change from matrix to array of dimension 28x28 to array of dimension 784\n",
    "dim_data = np.prod(x_train.shape[1:])\n",
    "X_train = x_train.reshape(x_train.shape[0], dim_data)\n",
    "X_test = x_test.reshape(x_test.shape[0], dim_data) "
   ]
  },
  {
   "cell_type": "code",
   "execution_count": 12,
   "metadata": {},
   "outputs": [
    {
     "name": "stdout",
     "output_type": "stream",
     "text": [
      "x_train size: (56000, 784)\n",
      "x_test size: (28000, 784)\n"
     ]
    }
   ],
   "source": [
    "print(\"x_train size:\", X_train.shape) \n",
    "print(\"x_test size:\", X_test.shape)"
   ]
  },
  {
   "cell_type": "markdown",
   "metadata": {},
   "source": [
    "4. Split training data into a train and validation set."
   ]
  },
  {
   "cell_type": "code",
   "execution_count": 13,
   "metadata": {},
   "outputs": [
    {
     "name": "stdout",
     "output_type": "stream",
     "text": [
      "x_train size: (44800, 784)\n",
      "y_train size: (44800, 10)\n",
      "x_val size: (11200, 784)\n",
      "y_val size: (11200, 10)\n"
     ]
    }
   ],
   "source": [
    "# Train and validation split (80% train, 20% val)\n",
    "X_train, X_val = X_train[:-11200], X_train[-11200:]\n",
    "Y_train, Y_val = Y_train[:-11200], Y_train[-11200:]\n",
    "\n",
    "print(\"x_train size:\", X_train.shape) \n",
    "print(\"y_train size:\", Y_train.shape) \n",
    "print(\"x_val size:\", X_val.shape)\n",
    "print(\"y_val size:\", Y_val.shape)"
   ]
  },
  {
   "cell_type": "markdown",
   "metadata": {},
   "source": [
    "### We want to build a 784(Input)-784(Hidden Layer1)-256(Hidden Layer2)-10(Output) neural net model.\n"
   ]
  },
  {
   "cell_type": "code",
   "execution_count": 14,
   "metadata": {},
   "outputs": [],
   "source": [
    "h1_size = 784\n",
    "h2_size = 256\n",
    "h3_size = 10\n",
    "input_size = 784\n",
    "n_samples = X_train.shape[0]\n",
    "\n",
    "# Initialize weights and bias\n",
    "w1 = np.zeros((input_size, h1_size)) + (1/n_samples) # This weight initialization produced bad results\n",
    "b1 = np.zeros((h1_size,1)) \n",
    "w2 = np.zeros((h1_size, h2_size)) + (1/n_samples)\n",
    "b2 = np.zeros((h2_size,1))\n",
    "w3 = np.zeros((h2_size, h3_size)) + (1/n_samples)\n",
    "b3 = np.zeros((h3_size,1)) "
   ]
  },
  {
   "cell_type": "code",
   "execution_count": 15,
   "metadata": {},
   "outputs": [
    {
     "name": "stdout",
     "output_type": "stream",
     "text": [
      "(784, 1) (256, 1) (10, 1)\n"
     ]
    }
   ],
   "source": [
    "print(b1.shape, b2.shape, b3.shape)"
   ]
  },
  {
   "cell_type": "code",
   "execution_count": 16,
   "metadata": {},
   "outputs": [],
   "source": [
    "# Define the softmax activation function\n",
    "# The softmax function will be used only for the output layer activations\n",
    "def softmax(a):\n",
    "    a = a-a.max() # to avoid numerical overflow\n",
    "    exp_a = np.exp(a)\n",
    "    return exp_a/exp_a.sum(axis=1, keepdims=True) # produces an output between 0 and 1\n",
    "# ______________________________________________________________________________________\n",
    "# Define our activation functions and their derivates, using numpy\n",
    "def tanh(x):\n",
    "    return np.tanh(x)\n",
    "\n",
    "def tanh_deriv(x):\n",
    "    return 1.0 - np.tanh(x)**2\n",
    "# ______________________________________________________________________________________\n",
    "# Cross-Entropy function \n",
    "def cross_entropy(Y_train, ab3, N):\n",
    "    \"\"\"Y_train: vector of the actual output\n",
    "        a3: vector of the final output predictions\n",
    "        N: number of samples to divide by\"\"\"\n",
    "    log_prob = np.multiply(np.log(ab3), Y_train)\n",
    "    cost = - np.sum(log_prob) / N\n",
    "    return cost"
   ]
  },
  {
   "cell_type": "code",
   "execution_count": 17,
   "metadata": {},
   "outputs": [],
   "source": [
    "def forward(x_train):\n",
    "    # Implement forward propagation \n",
    "    z1 = np.dot(x_train, w1) + b1.T\n",
    "    a1 = np.tanh(z1)\n",
    "    \n",
    "    z2 = np.dot(a1,w2) + b2.T\n",
    "    a2 = np.tanh(z2)\n",
    "    \n",
    "    z3 = np.dot(a2, w3) + b3.T\n",
    "    a3 = softmax(z3) # final output prediction\n",
    "    \n",
    "    return z1, a1, z2, a2, z3, a3"
   ]
  },
  {
   "cell_type": "code",
   "execution_count": 18,
   "metadata": {},
   "outputs": [],
   "source": [
    "z1, a1, z2, a2, z3, a3 = forward(X_train)"
   ]
  },
  {
   "cell_type": "code",
   "execution_count": 19,
   "metadata": {},
   "outputs": [
    {
     "data": {
      "text/plain": [
       "2.302585092994045"
      ]
     },
     "execution_count": 19,
     "metadata": {},
     "output_type": "execute_result"
    }
   ],
   "source": [
    "# Compute the cross-entropy \n",
    "cross_entropy(Y_train, a3, n_samples)"
   ]
  },
  {
   "cell_type": "code",
   "execution_count": 20,
   "metadata": {},
   "outputs": [],
   "source": [
    "# Back propagation\n",
    "def backward(z1, a1, z2, a2, z3, a3, x_train, y_train):\n",
    "    dz3 = a3 - y_train\n",
    "#     print(dz3.shape)\n",
    "    dw3 = (1/n_samples) * np.dot(a2.T, dz3)\n",
    "#     print(dw3.shape)\n",
    "    db3 = (1/n_samples) * np.sum(dz3.T, axis=1, keepdims=True)\n",
    "#     print(db3.shape)\n",
    "    dz2 = np.multiply(np.dot(dz3, w3.T), 1 - np.power(a2, 2))\n",
    "\n",
    "    dw2 = (1/n_samples) * np.dot(a1.T, dz2)\n",
    "    db2 = (1/n_samples) * np.sum(dz2.T, axis=1, keepdims=True)\n",
    "#     print(db2.shape)\n",
    "    dz1 = np.multiply(np.dot(dz2, w2.T), 1 - np.power(a1, 2))\n",
    "    dw1 = (1/n_samples) * np.dot(x_train.T, dz1)\n",
    "    db1 = (1/n_samples) * np.sum(dz1.T, axis=1, keepdims=True)\n",
    "    \n",
    "    return dw3, db3, dw2,  db2, dw1, db1"
   ]
  },
  {
   "cell_type": "code",
   "execution_count": 21,
   "metadata": {},
   "outputs": [],
   "source": [
    "dw3, db3, dw2,  db2, dw1, db1 = backward(z1, a1, z2, a2, z3, a3, X_train, Y_train)"
   ]
  },
  {
   "cell_type": "code",
   "execution_count": 22,
   "metadata": {},
   "outputs": [],
   "source": [
    "# Update Weighs and Biases\n",
    "learning_rate = 0.01\n",
    "\n",
    "w1 = w1 - learning_rate * dw1\n",
    "b1 = b1 - learning_rate * db1\n",
    "w2 = w2 - learning_rate * dw2\n",
    "b2 = b2 - learning_rate * db2\n",
    "w3 = w3 - learning_rate * dw3\n",
    "b3 = b3 - learning_rate * db3"
   ]
  },
  {
   "cell_type": "code",
   "execution_count": 23,
   "metadata": {},
   "outputs": [],
   "source": [
    "n_samples = 44800\n",
    "batchSz = 32\n",
    "batchNum = int(n_samples/batchSz)\n",
    "n_epoches = 1\n",
    "learning_rate = 0.1\n",
    "\n",
    "for k in range(0, n_epoches):\n",
    "    for i in range(batchNum):\n",
    "\n",
    "        # mini batch\n",
    "        imgs = X_train[i*batchSz: (i+1)*batchSz]\n",
    "        anss = Y_train[i*batchSz: (i+1)*batchSz]\n",
    "\n",
    "        # forward\n",
    "        z1, a1, z2, a2, z3, a3 = forward(imgs)\n",
    "\n",
    "        # backward\n",
    "        dw3, db3, dw2, db2, dw1, db1 = backward(z1, a1, z2, a2, z3, a3, imgs, anss)\n",
    "\n",
    "        # Update the weights and bias\n",
    "        w1 = w1 - learning_rate * dw1\n",
    "        b1 = b1 - learning_rate * db1\n",
    "        w2 = w2 - learning_rate * dw2\n",
    "        b2 = b2 - learning_rate * db2\n",
    "        w3 = w3 - learning_rate * dw3\n",
    "        b3 = b3 - learning_rate * db3\n",
    "\n",
    "        # print xentropy each 100 minibatches\n",
    "        if i%50 == 0:\n",
    "            zb1, ab1, zb2, ab2, zb3, ab3 = forward(X_train)\n",
    "            cross_entropy(Y_train, ab3, n_samples)\n",
    "#             print(xentropy)\n"
   ]
  },
  {
   "cell_type": "markdown",
   "metadata": {},
   "source": [
    ">  The code below was inpsired from Python Machine Learning - Sebastian Raschka and Vahid Mirjalili"
   ]
  },
  {
   "cell_type": "code",
   "execution_count": 24,
   "metadata": {},
   "outputs": [],
   "source": [
    "class NeuralNet_Version2(object):\n",
    "    \"\"\" Feedforward neural network / Multi-layer perceptron classifier.\n",
    "\n",
    "    Parameters\n",
    "    ------------\n",
    "    n_hidden : Number of hidden units.(int)\n",
    "    L2 : Lambda value for L2-regularization. (float - default: 0.)\n",
    "    epochs : Number of passes over the training set.(int - default: 50) \n",
    "    eta : Learning rate. (float - default: 0.01)\n",
    "    shuffle : Shuffles training data every epoch if True to prevent circles. (bool - default: True)\n",
    "    minibatch_size : Number of training samples per minibatch when splitting the training data \n",
    "                    in each epoch for stochastic gradient descent. (int - default: 32)\n",
    "    seed : Random seed for initalizing weights and shuffling. (int - default: 2205)\n",
    "        \n",
    "    Attributes\n",
    "    -----------\n",
    "    eval_ : Dictionary collecting the cost, training accuracy,\n",
    "      and validation accuracy for each epoch during training.\n",
    "\n",
    "    \"\"\"\n",
    "    def __init__(self, n_hidden_1=784, n_hidden_2=256, epochs=1, lr=0.01, lambd=1,\n",
    "                 shuffle=True, minibatch_size=32, seed=2205):\n",
    "\n",
    "        self.random = np.random.RandomState(seed)\n",
    "        self.n_hidden_1 = n_hidden_1\n",
    "        self.n_hidden_2 = n_hidden_2\n",
    "        self.epochs = epochs\n",
    "        self.lr = lr\n",
    "        self.shuffle = shuffle\n",
    "        self.minibatch_size = minibatch_size\n",
    "        self.lambd = lambd\n",
    "\n",
    "    def _tanh(self, z):\n",
    "        \"\"\"Compute tanh activation function\"\"\"\n",
    "        return np.tanh(z)\n",
    "    \n",
    "    def _sigmoid(self, z):\n",
    "        return 1 / (1 + np.exp(-z))\n",
    "    \n",
    "    def _sigmoid_derivative(self, z):\n",
    "        return self._sigmoid(z) * (1 - self._sigmoid(z))\n",
    "\n",
    "    def _forward(self, X):\n",
    "        \"\"\"Compute forward propagation step\"\"\"\n",
    "\n",
    "        # step 1: net input of hidden layer\n",
    "        z_h1 = np.dot(X, self.w_h1) + self.b_h1\n",
    "\n",
    "        # step 2: activation of hidden layer 1\n",
    "        a_h1 = self._tanh(z_h1)\n",
    "#         a_h1 = self._sigmoid(z_h1)\n",
    "        \n",
    "        # step 3: net input of hidden layer 2        \n",
    "        z_h2 = np.dot(X, self.w_h2) + self.b_h2\n",
    "        \n",
    "        # step 4: activation of hidden layer 2        \n",
    "        a_h2 = self._tanh(z_h2)\n",
    "#         a_h2 = self._sigmoid(z_h2)\n",
    "        \n",
    "\n",
    "        # step 5: net input of output layer\n",
    "        z_out = np.dot(a_h2, self.w_out) + self.b_out\n",
    "\n",
    "        # step 6: activation output layer\n",
    "        a_out = self._softmax(z_out)\n",
    "\n",
    "        return z_h1, a_h1, z_h2, a_h2, z_out, a_out\n",
    "\n",
    "    \n",
    "    def _backward(self, activation):\n",
    "        \n",
    "        return None\n",
    "    \n",
    "\n",
    "    def _softmax(self, a):\n",
    "        \"\"\"Takes an N-dimensional vector of real numbers and \n",
    "        transforms it into a vector in range (0,1) which add up to 1.\"\"\"\n",
    "        a = a-a.max() # to avoid numerical overflow\n",
    "        exp_a = np.exp(a)\n",
    "        return exp_a/exp_a.sum(axis=1, keepdims=True)\n",
    "    \n",
    "    def _cross_entropy(self, y_pred, y_true):\n",
    "        \"\"\"Compute cross entropy loss with softmax.\n",
    "\n",
    "        Parameters\n",
    "        ----------\n",
    "        y_true : array, shape = (n_samples, n_labels)\n",
    "            one-hot encoded class labels.\n",
    "        y_pred : array, shape = [n_samples, n_output_units]\n",
    "            Activation of the output layer (forward propagation)\n",
    "\n",
    "        Returns\n",
    "        ---------\n",
    "        loss : (float)\n",
    "        \"\"\"\n",
    "        \n",
    "#         log_prob = np.multiply(np.log(y_pred), y_true)\n",
    "        cost = - np.sum(y_true * np.log(y_pred))/44800 + \\\n",
    "                (np.sum(np.square(self.w_h1)) + np.sum(np.square(self.w_h2)) + np.sum(np.square(self.w_out)))*(self.lambd/(2*44800))\n",
    "\n",
    "\n",
    "        return cost\n",
    "\n",
    "    def predict(self, X):\n",
    "        \"\"\"Predict class labels\n",
    "\n",
    "        Parameters\n",
    "        -----------\n",
    "        X : array, shape = [n_samples, n_features]\n",
    "            Input layer with original features.\n",
    "\n",
    "        Returns:\n",
    "        ----------\n",
    "        y_pred : array, shape = [n_samples]\n",
    "            Predicted class labels.\n",
    "        \"\"\"\n",
    "        z_h1, a_h1, z_h2, a_h2, z_out, a_out = self._forward(X)\n",
    "        y_pred = np.argmax(a_out, axis=1)\n",
    "        return y_pred\n",
    "\n",
    "    def fit(self, X_train, Y_train, X_valid, Y_valid):\n",
    "        \"\"\" Learn weights from training data.\n",
    "\n",
    "        Parameters\n",
    "        -----------\n",
    "        X_train : array, shape = [n_samples, n_features]\n",
    "            Input layer with original features.\n",
    "        y_train : array, shape = [n_samples]\n",
    "            Target class labels.\n",
    "        X_valid : array, shape = [n_samples, n_features]\n",
    "            Sample features for validation during training\n",
    "        y_valid : array, shape = [n_samples]\n",
    "            Sample labels for validation during training\n",
    "\n",
    "        Returns:\n",
    "        ----------\n",
    "        self\n",
    "        \"\"\"\n",
    "        \n",
    "        # number of neurons for input and output layer\n",
    "        outSz = Y_train.shape[1]  # number of class labels, 10\n",
    "        inSz = X_train.shape[1] # 784\n",
    "        N = X_train.shape[0] # total number of instances in the training data\n",
    "        \n",
    "        ########################\n",
    "        # Weight initialization\n",
    "        ########################\n",
    "\n",
    "        # weights for input -> hidden1\n",
    "        self.b_h1 = np.random.rand(self.n_hidden_1) \n",
    "        self.w_h1 = np.random.rand(inSz, self.n_hidden_1)/np.sqrt(1/inSz)\n",
    "        \n",
    "        # weights for hidden1 -> hidden2\n",
    "        \n",
    "        self.b_h2 = np.zeros(self.n_hidden_2) \n",
    "        self.w_h2 = np.random.rand(self.n_hidden_1, self.n_hidden_2)/np.sqrt(1/inSz)\n",
    "        \n",
    "\n",
    "        # weights for hidden2 -> output\n",
    "        self.b_out = np.zeros(outSz)\n",
    "        self.w_out = np.random.rand(self.n_hidden_2, outSz)/np.sqrt(1/inSz)\n",
    "\n",
    "        epoch_strlen = len(str(self.epochs))  # for progress formatting\n",
    "        self.eval_ = {'cost': [], 'train_acc': [], 'valid_acc': []}\n",
    "\n",
    "        # iterate over training epochs\n",
    "        for i in range(self.epochs):\n",
    "\n",
    "            # iterate over minibatches\n",
    "            indices = np.arange(X_train.shape[0])\n",
    "\n",
    "            if self.shuffle:\n",
    "                self.random.shuffle(indices)\n",
    "\n",
    "            for start_idx in range(0, indices.shape[0] - self.minibatch_size +\n",
    "                                   1, self.minibatch_size):\n",
    "                batch_idx = indices[start_idx:start_idx + self.minibatch_size]\n",
    "\n",
    "                # forward propagation\n",
    "                z_h1, a_h1, z_h2, a_h2, z_out, a_out = self._forward(X_train[batch_idx])\n",
    "                \n",
    "#                 print(z_h1, a_h1, z_h2, a_h2, z_out, a_out)\n",
    "\n",
    "                \n",
    "                ##################\n",
    "                # Backpropagation\n",
    "                ##################\n",
    "                \n",
    "                div = 1/32\n",
    "                \n",
    "                \n",
    "                # \n",
    "                dz_out = a_out - Y_train[batch_idx] # [32,10] -[32,10]\n",
    "                dw_out = div * np.matmul(a_h2.T, dz_out ) + (self.lambd/32)*self.w_out # [256,10] = [256,32]*[32,10]\n",
    "                db_out = div * dz_out # [32, 10]\n",
    "\n",
    "                dz_h2 = np.matmul(dz_out, self.w_out.T) * (1 - np.power(a_h2, 2)) # [32,256] = [32,10]*[256,10]\n",
    "                dw_h2 = div * np.matmul( a_h1.T, dz_h2) + (self.lambd/32)*self.w_h2 # [784, 256] = [784,32]*[32*256]\n",
    "                db_h2 = div * dz_h2            \n",
    "            \n",
    "                dz_h1 = np.matmul(dz_h2, self.w_h2.T ) * (1 - np.power(a_h1, 2)) # [32,784] = \n",
    "                dw_h1 = div * np.matmul(X_train[batch_idx].T, dz_h1) + (self.lambd/32)*self.w_h1 # [784, 784] = [784,32] * [32, 784]\n",
    "                db_h1 = div * dz_h1 \n",
    "                         \n",
    "                # weight updates\n",
    "\n",
    "                self.w_h1 -= self.lr * (dw_h1) # [784, 784]\n",
    "                self.b_h1 -= self.lr * db_h1.sum(axis=0)\n",
    "                \n",
    "                self.w_h2 -= self.lr * (dw_h2) # [784, 256]\n",
    "                self.b_h2 -= self.lr * db_h2.sum(axis=0)\n",
    "                \n",
    "                self.w_out -= self.lr * (dw_out) # [256, 10]\n",
    "                self.b_out -= self.lr * db_out.sum(axis=0)\n",
    "                \n",
    "\n",
    "            #############\n",
    "            # Evaluation\n",
    "            #############\n",
    "\n",
    "            # Evaluation after each epoch during training\n",
    "            z_h1, a_h1, z_h2, a_h2, z_out, a_out = self._forward(X_train)\n",
    "            cost = self._cross_entropy(y_pred=a_out, y_true=Y_train)\n",
    "\n",
    "            y_train_pred = self.predict(X_train)\n",
    "            y_valid_pred = self.predict(X_valid)\n",
    "            \n",
    "\n",
    "            \n",
    "            train_acc = np.sum(y_train_pred == np.argmax(Y_train))/X_train.shape[0]\n",
    "\n",
    "            valid_acc = np.sum(y_valid_pred == np.argmax(Y_valid))/X_valid.shape[0]\n",
    "\n",
    "            print('\\r%0*d/%d | Cost: %.2f '\n",
    "                             '| Train/Valid Acc.: %.2f%%/%.2f%% ' %\n",
    "                             (epoch_strlen, i+1, self.epochs, cost,\n",
    "                              train_acc*100, valid_acc*100))\n",
    "\n",
    "            self.eval_['cost'].append(cost)\n",
    "            self.eval_['train_acc'].append(train_acc)\n",
    "            self.eval_['valid_acc'].append(valid_acc)\n",
    "\n",
    "        return self"
   ]
  },
  {
   "cell_type": "code",
   "execution_count": 25,
   "metadata": {},
   "outputs": [],
   "source": [
    "class NeuralNet(object):\n",
    "    \"\"\" Feedforward neural network / Multi-layer perceptron classifier.\n",
    "\n",
    "    Parameters\n",
    "    ------------\n",
    "    n_hidden : Number of hidden units.(int)\n",
    "    L2 : Lambda value for L2-regularization. (float - default: 0.)\n",
    "    epochs : Number of passes over the training set.(int - default: 50) \n",
    "    eta : Learning rate. (float - default: 0.01)\n",
    "    shuffle : Shuffles training data every epoch if True to prevent circles. (bool - default: True)\n",
    "    minibatch_size : Number of training samples per minibatch when splitting the training data \n",
    "                    in each epoch for stochastic gradient descent. (int - default: 32)\n",
    "    seed : Random seed for initalizing weights and shuffling. (int - default: 2205)\n",
    "        \n",
    "    Attributes\n",
    "    -----------\n",
    "    eval_ : Dictionary collecting the cost, training accuracy,\n",
    "      and validation accuracy for each epoch during training.\n",
    "\n",
    "    \"\"\"\n",
    "    def __init__(self, n_hidden_1=784, n_hidden_2=256, epochs=1, lr=0.01,\n",
    "                 shuffle=True, minibatch_size=32, seed=2205):\n",
    "\n",
    "        self.random = np.random.RandomState(seed)\n",
    "        self.n_hidden_1 = n_hidden_1\n",
    "        self.n_hidden_2 = n_hidden_2\n",
    "        self.epochs = epochs\n",
    "        self.lr = lr\n",
    "        self.shuffle = shuffle\n",
    "        self.minibatch_size = minibatch_size\n",
    "\n",
    "    def _tanh(self, z):\n",
    "        \"\"\"Compute tanh activation function\"\"\"\n",
    "        return np.tanh(z)\n",
    "    \n",
    "    def _tanh_deriv(self, z):\n",
    "        return 1.0 - np.tanh(z)**2\n",
    "    \n",
    "    def _sigmoid(self, z):\n",
    "        return 1 / (1 + np.exp(-z))\n",
    "    \n",
    "    def _sigmoid_derivative(self, z):\n",
    "        return self._sigmoid(z) * (1 - self._sigmoid(z))\n",
    "\n",
    "    def _forward(self, X):\n",
    "        \"\"\"Compute forward propagation step\"\"\"\n",
    "\n",
    "        # step 1: net input of hidden layer\n",
    "        z_h1 = np.dot(X, self.w_h1) + self.b_h1\n",
    "\n",
    "        # step 2: activation of hidden layer 1\n",
    "        a_h1 = self._tanh(z_h1)\n",
    "#         a_h1 = self._sigmoid(z_h1)\n",
    "        \n",
    "        # step 3: net input of hidden layer 2        \n",
    "        z_h2 = np.dot(X, self.w_h2) + self.b_h2\n",
    "        \n",
    "        # step 4: activation of hidden layer 2        \n",
    "        a_h2 = self._tanh(z_h2)\n",
    "#         a_h2 = self._sigmoid(z_h2)\n",
    "\n",
    "        # step 5: net input of output layer\n",
    "        z_out = np.dot(a_h2, self.w_out) + self.b_out\n",
    "\n",
    "        # step 6: activation output layer\n",
    "        a_out = self._softmax(z_out)\n",
    "\n",
    "        return z_h1, a_h1, z_h2, a_h2, z_out, a_out\n",
    "\n",
    "\n",
    "    def _softmax(self, a):\n",
    "        \"\"\"Takes an N-dimensional vector of real numbers and \n",
    "        transforms it into a vector in range (0,1) which add up to 1.\"\"\"\n",
    "        a = a-a.max() # to avoid numerical overflow\n",
    "        exp_a = np.exp(a)\n",
    "        return exp_a/exp_a.sum(axis=1, keepdims=True)\n",
    "    \n",
    "    def _cross_entropy(self, y_pred, y_true, N):\n",
    "        \"\"\"Compute cross entropy loss with softmax.\n",
    "\n",
    "        Parameters\n",
    "        ----------\n",
    "        y_true : array, shape = (n_samples, n_labels)\n",
    "            one-hot encoded class labels.\n",
    "        y_pred : array, shape = [n_samples, n_output_units]\n",
    "            Activation of the output layer (forward propagation)\n",
    "\n",
    "        Returns\n",
    "        ---------\n",
    "        loss : (float)\n",
    "        \"\"\"\n",
    "        log_prob = np.multiply(np.log(y_pred), y_true)\n",
    "        cost = - np.sum(log_prob) / N\n",
    "        \n",
    "#         log_prob = y_true * np.log(y_pred)\n",
    "#         cost = - np.sum(log_prob)\n",
    "\n",
    "        return cost\n",
    "\n",
    "    def predict(self, X):\n",
    "        \"\"\"Predict class labels\n",
    "\n",
    "        Parameters\n",
    "        -----------\n",
    "        X : array, shape = [n_samples, n_features]\n",
    "            Input layer with original features.\n",
    "\n",
    "        Returns:\n",
    "        ----------\n",
    "        y_pred : array, shape = [n_samples]\n",
    "            Predicted class labels.\n",
    "        \"\"\"\n",
    "        z_h1, a_h1, z_h2, a_h2, z_out, a_out = self._forward(X)\n",
    "        y_pred = np.argmax(z_out, axis=1)\n",
    "        return y_pred\n",
    "\n",
    "    def fit(self, X_train, y_train, X_valid, y_valid):\n",
    "        \"\"\" Learn weights from training data.\n",
    "\n",
    "        Parameters\n",
    "        -----------\n",
    "        X_train : array, shape = [n_samples, n_features]\n",
    "            Input layer with original features.\n",
    "        y_train : array, shape = [n_samples]\n",
    "            Target class labels.\n",
    "        X_valid : array, shape = [n_samples, n_features]\n",
    "            Sample features for validation during training\n",
    "        y_valid : array, shape = [n_samples]\n",
    "            Sample labels for validation during training\n",
    "\n",
    "        Returns:\n",
    "        ----------\n",
    "        self\n",
    "        \"\"\"\n",
    "        \n",
    "        # number of neurons for input and output layer\n",
    "        outSz = y_train.shape[1]  # number of class labels, 10\n",
    "        inSz = X_train.shape[1] # 784\n",
    "        N = X_train.shape[0] # total number of instances in the training data\n",
    "        \n",
    "        ########################\n",
    "        # Weight initialization\n",
    "        ########################\n",
    "\n",
    "        # weights for input -> hidden1\n",
    "        self.b_h1 = np.random.rand(self.n_hidden_1) \n",
    "        self.w_h1 = np.random.rand(inSz, self.n_hidden_1)/N\n",
    "        \n",
    "        # weights for hidden1 -> hidden2\n",
    "        \n",
    "        self.b_h2 = np.zeros(self.n_hidden_2) \n",
    "        self.w_h2 = np.random.rand(self.n_hidden_1, self.n_hidden_2)/N\n",
    "\n",
    "        # weights for hidden2 -> output\n",
    "        self.b_out = np.zeros(outSz)\n",
    "        self.w_out = np.random.rand(self.n_hidden_2, outSz)/N\n",
    "\n",
    "        epoch_strlen = len(str(self.epochs))  # for progress formatting\n",
    "        self.eval_ = {'cost': [], 'train_acc': [], 'valid_acc': []}\n",
    "\n",
    "        # iterate over training epochs\n",
    "        for i in range(self.epochs):\n",
    "\n",
    "            # iterate over minibatches\n",
    "            indices = np.arange(X_train.shape[0])\n",
    "\n",
    "            if self.shuffle:\n",
    "                self.random.shuffle(indices)\n",
    "\n",
    "            for start_idx in range(0, indices.shape[0] - self.minibatch_size +\n",
    "                                   1, self.minibatch_size):\n",
    "                batch_idx = indices[start_idx:start_idx + self.minibatch_size]\n",
    "\n",
    "                # forward propagation\n",
    "                z_h1, a_h1, z_h2, a_h2, z_out, a_out = self._forward(X_train[batch_idx])\n",
    "#                 print(z_h1, a_h1, z_h2, a_h2, z_out, a_out)\n",
    "\n",
    "                ##################\n",
    "                # Backpropagation\n",
    "                ##################\n",
    "                \n",
    "                div = 1\n",
    "                \n",
    "                dz_out = a_out - y_train[batch_idx]\n",
    "                dw_out = div * np.dot(a_h2.T, dz_out)\n",
    "                db_out = div * dz_out\n",
    "    \n",
    "                dz_h2 = np.multiply(np.dot(dz_out, self.w_out.T), self._tanh_deriv(a_h2))\n",
    "                dw_h2 = div * np.dot(a_h1.T, dz_h2)\n",
    "                db_h2 = div * dz_h2        \n",
    "            \n",
    "                dz_h1 = np.multiply(np.dot(dz_h2, self.w_h2.T), self._tanh_deriv(a_h1))\n",
    "                dw_h1 = div * np.dot(X_train[batch_idx].T, dz_h1)\n",
    "                db_h1 = div * dz_h1\n",
    "                         \n",
    "                # weight updates\n",
    "\n",
    "                self.w_h1 -= self.lr * (dw_h1) \n",
    "                self.b_h1 -= self.lr * db_h1.sum(axis=0)\n",
    "                \n",
    "                self.w_h2 -= self.lr * (dw_h2) \n",
    "                self.b_h2 -= self.lr * db_h2.sum(axis=0)\n",
    "                \n",
    "                self.w_out -= self.lr * (dw_out)\n",
    "                self.b_out -= self.lr * db_out.sum(axis=0)\n",
    "\n",
    "            #############\n",
    "            # Evaluation\n",
    "            #############\n",
    "\n",
    "            # Evaluation after each epoch during training\n",
    "            z_h1, a_h1, z_h2, a_h2, z_out, a_out = self._forward(X_train)\n",
    "            cost = self._cross_entropy(y_pred=a_out, y_true=y_train, N=N)\n",
    "\n",
    "            y_train_pred = self.predict(X_train)\n",
    "            y_valid_pred = self.predict(X_valid)\n",
    "            \n",
    "            \n",
    "            train_acc = np.sum(y_train_pred == np.argmax(y_train, 1))/N\n",
    "    \n",
    "            valid_acc = np.sum(y_valid_pred == np.argmax(y_valid, 1))/N\n",
    "\n",
    "#             print(y_train_pred.shape, y_train.shape)\n",
    "\n",
    "#             print(train_acc, valid_acc)\n",
    "\n",
    "            print('\\r%0*d/%d | Cost: %.2f '\n",
    "                             '| Train/Valid Acc.: %.2f%%/%.2f%% ' %\n",
    "                             (epoch_strlen, i+1, self.epochs, cost,\n",
    "                              train_acc*100, valid_acc*100))\n",
    "\n",
    "            self.eval_['cost'].append(cost)\n",
    "            self.eval_['train_acc'].append(train_acc)\n",
    "            self.eval_['valid_acc'].append(valid_acc)\n",
    "\n",
    "        return self"
   ]
  },
  {
   "cell_type": "code",
   "execution_count": 26,
   "metadata": {},
   "outputs": [],
   "source": [
    "NN_V2 = NeuralNet_Version2(n_hidden_1=784, n_hidden_2=256, epochs=50, lr=0.01, lambd=1, shuffle=True, minibatch_size=32, seed=2205)"
   ]
  },
  {
   "cell_type": "code",
   "execution_count": 27,
   "metadata": {},
   "outputs": [
    {
     "name": "stdout",
     "output_type": "stream",
     "text": [
      "01/50 | Cost: 995.82 | Train/Valid Acc.: 0.00%/100.00% \n",
      "02/50 | Cost: 416.42 | Train/Valid Acc.: 0.00%/100.00% \n",
      "03/50 | Cost: 174.92 | Train/Valid Acc.: 0.00%/0.00% \n",
      "04/50 | Cost: 74.25 | Train/Valid Acc.: 0.00%/0.00% \n",
      "05/50 | Cost: 32.31 | Train/Valid Acc.: 0.00%/0.00% \n",
      "06/50 | Cost: 14.81 | Train/Valid Acc.: 0.00%/0.00% \n",
      "07/50 | Cost: 7.54 | Train/Valid Acc.: 0.00%/0.00% \n",
      "08/50 | Cost: 4.49 | Train/Valid Acc.: 0.00%/0.00% \n",
      "09/50 | Cost: 3.23 | Train/Valid Acc.: 0.00%/0.00% \n",
      "10/50 | Cost: 2.69 | Train/Valid Acc.: 0.00%/0.00% \n",
      "11/50 | Cost: 2.47 | Train/Valid Acc.: 0.00%/0.00% \n",
      "12/50 | Cost: 2.40 | Train/Valid Acc.: 0.00%/0.00% \n",
      "13/50 | Cost: 2.36 | Train/Valid Acc.: 0.00%/0.00% \n",
      "14/50 | Cost: 2.30 | Train/Valid Acc.: 0.00%/0.00% \n",
      "15/50 | Cost: 2.15 | Train/Valid Acc.: 0.00%/2.74% \n",
      "16/50 | Cost: 2.08 | Train/Valid Acc.: 5.87%/9.67% \n",
      "17/50 | Cost: 1.97 | Train/Valid Acc.: 0.00%/0.00% \n",
      "18/50 | Cost: 1.83 | Train/Valid Acc.: 0.36%/9.76% \n",
      "19/50 | Cost: 1.69 | Train/Valid Acc.: 7.59%/10.38% \n",
      "20/50 | Cost: 1.69 | Train/Valid Acc.: 0.78%/13.52% \n",
      "21/50 | Cost: 1.74 | Train/Valid Acc.: 1.71%/15.73% \n",
      "22/50 | Cost: 1.75 | Train/Valid Acc.: 4.26%/13.51% \n",
      "23/50 | Cost: 1.75 | Train/Valid Acc.: 4.44%/13.71% \n",
      "24/50 | Cost: 1.71 | Train/Valid Acc.: 6.50%/12.23% \n",
      "25/50 | Cost: 1.68 | Train/Valid Acc.: 8.17%/11.02% \n",
      "26/50 | Cost: 1.66 | Train/Valid Acc.: 5.45%/12.85% \n",
      "27/50 | Cost: 1.65 | Train/Valid Acc.: 4.06%/12.40% \n",
      "28/50 | Cost: 1.64 | Train/Valid Acc.: 6.20%/10.62% \n",
      "29/50 | Cost: 1.64 | Train/Valid Acc.: 7.62%/12.61% \n",
      "30/50 | Cost: 1.62 | Train/Valid Acc.: 6.94%/13.40% \n",
      "31/50 | Cost: 1.61 | Train/Valid Acc.: 9.14%/11.24% \n",
      "32/50 | Cost: 1.62 | Train/Valid Acc.: 9.05%/11.19% \n",
      "33/50 | Cost: 1.62 | Train/Valid Acc.: 7.03%/12.67% \n",
      "34/50 | Cost: 1.62 | Train/Valid Acc.: 7.47%/11.37% \n",
      "35/50 | Cost: 1.62 | Train/Valid Acc.: 6.57%/10.71% \n",
      "36/50 | Cost: 1.62 | Train/Valid Acc.: 5.82%/14.43% \n",
      "37/50 | Cost: 1.62 | Train/Valid Acc.: 8.13%/12.10% \n",
      "38/50 | Cost: 1.63 | Train/Valid Acc.: 8.07%/9.29% \n",
      "39/50 | Cost: 1.63 | Train/Valid Acc.: 7.93%/12.11% \n",
      "40/50 | Cost: 1.63 | Train/Valid Acc.: 4.90%/11.30% \n",
      "41/50 | Cost: 1.64 | Train/Valid Acc.: 5.81%/14.85% \n",
      "42/50 | Cost: 1.63 | Train/Valid Acc.: 4.86%/10.23% \n",
      "43/50 | Cost: 1.64 | Train/Valid Acc.: 6.51%/11.18% \n",
      "44/50 | Cost: 1.64 | Train/Valid Acc.: 4.39%/10.38% \n",
      "45/50 | Cost: 1.64 | Train/Valid Acc.: 6.25%/9.04% \n",
      "46/50 | Cost: 1.64 | Train/Valid Acc.: 5.42%/9.70% \n",
      "47/50 | Cost: 1.64 | Train/Valid Acc.: 4.75%/12.91% \n",
      "48/50 | Cost: 1.64 | Train/Valid Acc.: 6.23%/9.61% \n",
      "49/50 | Cost: 1.64 | Train/Valid Acc.: 5.56%/10.90% \n",
      "50/50 | Cost: 1.64 | Train/Valid Acc.: 6.33%/8.69% \n"
     ]
    },
    {
     "data": {
      "text/plain": [
       "<__main__.NeuralNet_Version2 at 0x7fe77aa170f0>"
      ]
     },
     "execution_count": 27,
     "metadata": {},
     "output_type": "execute_result"
    }
   ],
   "source": [
    "NN_V2.fit(X_train, Y_train, X_val, Y_val)"
   ]
  },
  {
   "cell_type": "code",
   "execution_count": 28,
   "metadata": {},
   "outputs": [],
   "source": [
    "NN = NeuralNet(n_hidden_1=784, n_hidden_2=256, epochs=50, lr=0.01, shuffle=True, minibatch_size=32, seed=2205)"
   ]
  },
  {
   "cell_type": "code",
   "execution_count": 29,
   "metadata": {},
   "outputs": [],
   "source": [
    "# NN.fit(X_train, Y_train, X_val, Y_val)"
   ]
  },
  {
   "cell_type": "code",
   "execution_count": 30,
   "metadata": {},
   "outputs": [],
   "source": [
    "y_pred = NN_V2.predict(X_test)"
   ]
  },
  {
   "cell_type": "code",
   "execution_count": 31,
   "metadata": {},
   "outputs": [
    {
     "data": {
      "text/plain": [
       "numpy.ndarray"
      ]
     },
     "execution_count": 31,
     "metadata": {},
     "output_type": "execute_result"
    }
   ],
   "source": [
    "type(y_pred)"
   ]
  },
  {
   "cell_type": "code",
   "execution_count": 32,
   "metadata": {},
   "outputs": [
    {
     "data": {
      "text/html": [
       "<div>\n",
       "<style scoped>\n",
       "    .dataframe tbody tr th:only-of-type {\n",
       "        vertical-align: middle;\n",
       "    }\n",
       "\n",
       "    .dataframe tbody tr th {\n",
       "        vertical-align: top;\n",
       "    }\n",
       "\n",
       "    .dataframe thead th {\n",
       "        text-align: right;\n",
       "    }\n",
       "</style>\n",
       "<table border=\"1\" class=\"dataframe\">\n",
       "  <thead>\n",
       "    <tr style=\"text-align: right;\">\n",
       "      <th></th>\n",
       "      <th>Y_Pred</th>\n",
       "    </tr>\n",
       "  </thead>\n",
       "  <tbody>\n",
       "    <tr>\n",
       "      <td>0</td>\n",
       "      <td>1</td>\n",
       "    </tr>\n",
       "    <tr>\n",
       "      <td>1</td>\n",
       "      <td>6</td>\n",
       "    </tr>\n",
       "    <tr>\n",
       "      <td>2</td>\n",
       "      <td>7</td>\n",
       "    </tr>\n",
       "    <tr>\n",
       "      <td>3</td>\n",
       "      <td>7</td>\n",
       "    </tr>\n",
       "    <tr>\n",
       "      <td>4</td>\n",
       "      <td>1</td>\n",
       "    </tr>\n",
       "  </tbody>\n",
       "</table>\n",
       "</div>"
      ],
      "text/plain": [
       "   Y_Pred\n",
       "0       1\n",
       "1       6\n",
       "2       7\n",
       "3       7\n",
       "4       1"
      ]
     },
     "execution_count": 32,
     "metadata": {},
     "output_type": "execute_result"
    }
   ],
   "source": [
    "# Convert y_pred 1D Numpy Array to List\n",
    "y_pred = y_pred.tolist()\n",
    "\n",
    "# # # Flatten list of lists\n",
    "# # Q3_pred_flat = list(np.concatenate(Q3_pred))\n",
    "\n",
    "y_pred = pd.DataFrame({\"Y_Pred\": y_pred})\n",
    "y_pred.head()"
   ]
  },
  {
   "cell_type": "code",
   "execution_count": 33,
   "metadata": {},
   "outputs": [],
   "source": [
    "# Save predictions to CSV file\n",
    "y_pred.to_csv('Q3_prediction.csv')"
   ]
  },
  {
   "cell_type": "markdown",
   "metadata": {},
   "source": [
    "### Tensorflow"
   ]
  },
  {
   "cell_type": "code",
   "execution_count": 34,
   "metadata": {},
   "outputs": [
    {
     "data": {
      "text/plain": [
       "'2.0.0-alpha0'"
      ]
     },
     "execution_count": 34,
     "metadata": {},
     "output_type": "execute_result"
    }
   ],
   "source": [
    "import tensorflow as tf\n",
    "tf.__version__"
   ]
  },
  {
   "cell_type": "code",
   "execution_count": 35,
   "metadata": {},
   "outputs": [
    {
     "name": "stdout",
     "output_type": "stream",
     "text": [
      "784\n"
     ]
    }
   ],
   "source": [
    "# Define initialization parameters for our model.\n",
    "num_classes = 10\n",
    "num_features = X_train.shape[1] # 784\n",
    "num_output = 10\n",
    "num_layers_1 = 784\n",
    "num_layers_2 = 256\n",
    "learning_rate = 0.01\n",
    "\n",
    "print(num_features)"
   ]
  },
  {
   "cell_type": "markdown",
   "metadata": {},
   "source": [
    "> Reference: Videos from data camp - https://www.datacamp.com/courses/deep-learning-with-keras-in-python"
   ]
  },
  {
   "cell_type": "code",
   "execution_count": 36,
   "metadata": {},
   "outputs": [],
   "source": [
    "from tensorflow.keras.models import Sequential\n",
    "from tensorflow.keras.layers import Dense\n",
    "from keras import optimizers\n",
    "import timeit"
   ]
  },
  {
   "cell_type": "code",
   "execution_count": 37,
   "metadata": {},
   "outputs": [],
   "source": [
    "import random \n",
    "\n",
    "def seed_everything(SEED=2205):\n",
    "    np.random.seed(SEED)\n",
    "    tf.random.set_seed(SEED)\n",
    "    random.seed(SEED)\n",
    "    \n",
    "seed_everything(2205)"
   ]
  },
  {
   "cell_type": "code",
   "execution_count": 38,
   "metadata": {},
   "outputs": [],
   "source": [
    "# Initialize the constructor\n",
    "model = Sequential()\n",
    "\n",
    "# Add an input layer with 784 neurons and tanh activation\n",
    "model.add(Dense(num_features, activation='tanh', input_shape=(num_features,)))\n",
    "\n",
    "# Add one hidden layer with 256 neurons and tanh activation\n",
    "model.add(Dense(num_layers_2, activation='tanh'))\n",
    "\n",
    "# Add an output layer with 10 neurons and softmax activation \n",
    "model.add(Dense(num_output, activation='softmax'))\n",
    "\n",
    "#Compiling the sequential model \n",
    "model.compile(optimizer=tf.keras.optimizers.Adam(lr=0.01),\n",
    "              loss='categorical_crossentropy',\n",
    "              metrics=['accuracy'])"
   ]
  },
  {
   "cell_type": "code",
   "execution_count": 39,
   "metadata": {},
   "outputs": [],
   "source": [
    "# model.optimizer.get_config()\n",
    "\n",
    "# {'name': 'Adam',\n",
    "#  'learning_rate': 0.01,\n",
    "#  'decay': 0.0,\n",
    "#  'beta_1': 0.9,\n",
    "#  'beta_2': 0.999,\n",
    "#  'epsilon': 1e-07,\n",
    "#  'amsgrad': False}"
   ]
  },
  {
   "cell_type": "markdown",
   "metadata": {},
   "source": [
    "Once we compiled our model we can start the training process. We want to iterate on the whole training set (epochs = 50) and specify number of samples to use for one update to the model's weights (batch size). Generally the bigger the batch, the more stable our stochastic."
   ]
  },
  {
   "cell_type": "code",
   "execution_count": 40,
   "metadata": {},
   "outputs": [
    {
     "name": "stdout",
     "output_type": "stream",
     "text": [
      "Train on 44800 samples, validate on 11200 samples\n",
      "Epoch 1/50\n",
      "44800/44800 [==============================] - 9s 205us/sample - loss: 0.5066 - accuracy: 0.8460 - val_loss: 0.6247 - val_accuracy: 0.8151\n",
      "Epoch 2/50\n",
      "44800/44800 [==============================] - 10s 216us/sample - loss: 0.6177 - accuracy: 0.8074 - val_loss: 0.5418 - val_accuracy: 0.8266\n",
      "Epoch 3/50\n",
      "44800/44800 [==============================] - 9s 204us/sample - loss: 0.6488 - accuracy: 0.8018 - val_loss: 0.6135 - val_accuracy: 0.8274\n",
      "Epoch 4/50\n",
      "44800/44800 [==============================] - 9s 193us/sample - loss: 0.6220 - accuracy: 0.8136 - val_loss: 0.5896 - val_accuracy: 0.8185\n",
      "Epoch 5/50\n",
      "44800/44800 [==============================] - 9s 197us/sample - loss: 0.6818 - accuracy: 0.7956 - val_loss: 0.5957 - val_accuracy: 0.8335\n",
      "Epoch 6/50\n",
      "44800/44800 [==============================] - 9s 202us/sample - loss: 0.6337 - accuracy: 0.8123 - val_loss: 0.5276 - val_accuracy: 0.8631\n",
      "Epoch 7/50\n",
      "44800/44800 [==============================] - 9s 211us/sample - loss: 0.6447 - accuracy: 0.8116 - val_loss: 0.5418 - val_accuracy: 0.8435\n",
      "Epoch 8/50\n",
      "44800/44800 [==============================] - 9s 197us/sample - loss: 0.6053 - accuracy: 0.8293 - val_loss: 0.5552 - val_accuracy: 0.8512\n",
      "Epoch 9/50\n",
      "44800/44800 [==============================] - 9s 199us/sample - loss: 0.5971 - accuracy: 0.8293 - val_loss: 0.5318 - val_accuracy: 0.8557\n",
      "Epoch 10/50\n",
      "44800/44800 [==============================] - 9s 195us/sample - loss: 0.5432 - accuracy: 0.8479 - val_loss: 0.4715 - val_accuracy: 0.8632\n",
      "Epoch 11/50\n",
      "44800/44800 [==============================] - 9s 193us/sample - loss: 0.6079 - accuracy: 0.8267 - val_loss: 0.6151 - val_accuracy: 0.8227\n",
      "Epoch 12/50\n",
      "44800/44800 [==============================] - 9s 199us/sample - loss: 0.6054 - accuracy: 0.8276 - val_loss: 0.7932 - val_accuracy: 0.7508\n",
      "Epoch 13/50\n",
      "44800/44800 [==============================] - 9s 197us/sample - loss: 0.6727 - accuracy: 0.8009 - val_loss: 0.6781 - val_accuracy: 0.8034\n",
      "Epoch 14/50\n",
      "44800/44800 [==============================] - 9s 196us/sample - loss: 0.5956 - accuracy: 0.8384 - val_loss: 0.5778 - val_accuracy: 0.8352\n",
      "Epoch 15/50\n",
      "44800/44800 [==============================] - 9s 199us/sample - loss: 0.5742 - accuracy: 0.8433 - val_loss: 0.5541 - val_accuracy: 0.8484\n",
      "Epoch 16/50\n",
      "44800/44800 [==============================] - 9s 199us/sample - loss: 0.5634 - accuracy: 0.8451 - val_loss: 0.6291 - val_accuracy: 0.8196\n",
      "Epoch 17/50\n",
      "44800/44800 [==============================] - 9s 195us/sample - loss: 0.5455 - accuracy: 0.8474 - val_loss: 0.5676 - val_accuracy: 0.8285\n",
      "Epoch 18/50\n",
      "44800/44800 [==============================] - 9s 198us/sample - loss: 0.5379 - accuracy: 0.8548 - val_loss: 0.4959 - val_accuracy: 0.8719\n",
      "Epoch 19/50\n",
      "44800/44800 [==============================] - 9s 196us/sample - loss: 0.5585 - accuracy: 0.8490 - val_loss: 0.5484 - val_accuracy: 0.8553\n",
      "Epoch 20/50\n",
      "44800/44800 [==============================] - 9s 192us/sample - loss: 0.5554 - accuracy: 0.8497 - val_loss: 0.6176 - val_accuracy: 0.8368\n",
      "Epoch 21/50\n",
      "44800/44800 [==============================] - 9s 192us/sample - loss: 0.5203 - accuracy: 0.8545 - val_loss: 0.5572 - val_accuracy: 0.8153\n",
      "Epoch 22/50\n",
      "44800/44800 [==============================] - 9s 199us/sample - loss: 0.5557 - accuracy: 0.8490 - val_loss: 0.5362 - val_accuracy: 0.8467\n",
      "Epoch 23/50\n",
      "44800/44800 [==============================] - 9s 199us/sample - loss: 0.5413 - accuracy: 0.8573 - val_loss: 0.4858 - val_accuracy: 0.8728\n",
      "Epoch 24/50\n",
      "44800/44800 [==============================] - 9s 198us/sample - loss: 0.5455 - accuracy: 0.8567 - val_loss: 0.6415 - val_accuracy: 0.8429\n",
      "Epoch 25/50\n",
      "44800/44800 [==============================] - 9s 194us/sample - loss: 0.5278 - accuracy: 0.8618 - val_loss: 0.5093 - val_accuracy: 0.8704\n",
      "Epoch 26/50\n",
      "44800/44800 [==============================] - 9s 199us/sample - loss: 0.5056 - accuracy: 0.8606 - val_loss: 0.6144 - val_accuracy: 0.8446\n",
      "Epoch 27/50\n",
      "44800/44800 [==============================] - 9s 203us/sample - loss: 0.4808 - accuracy: 0.8757 - val_loss: 0.4533 - val_accuracy: 0.8815\n",
      "Epoch 28/50\n",
      "44800/44800 [==============================] - 9s 203us/sample - loss: 0.5082 - accuracy: 0.8653 - val_loss: 0.5514 - val_accuracy: 0.8621\n",
      "Epoch 29/50\n",
      "44800/44800 [==============================] - 9s 200us/sample - loss: 0.5235 - accuracy: 0.8606 - val_loss: 0.4918 - val_accuracy: 0.8768\n",
      "Epoch 30/50\n",
      "44800/44800 [==============================] - 9s 200us/sample - loss: 0.4992 - accuracy: 0.8722 - val_loss: 0.5018 - val_accuracy: 0.8729\n",
      "Epoch 31/50\n",
      "44800/44800 [==============================] - 10s 218us/sample - loss: 0.4938 - accuracy: 0.8687 - val_loss: 0.4629 - val_accuracy: 0.8822\n",
      "Epoch 32/50\n",
      "44800/44800 [==============================] - 9s 197us/sample - loss: 0.5074 - accuracy: 0.8667 - val_loss: 0.4671 - val_accuracy: 0.8607\n",
      "Epoch 33/50\n",
      "44800/44800 [==============================] - 9s 195us/sample - loss: 0.5286 - accuracy: 0.8597 - val_loss: 0.4884 - val_accuracy: 0.8599\n",
      "Epoch 34/50\n",
      "44800/44800 [==============================] - 9s 201us/sample - loss: 0.5399 - accuracy: 0.8555 - val_loss: 0.5336 - val_accuracy: 0.8609\n",
      "Epoch 35/50\n",
      "44800/44800 [==============================] - 9s 197us/sample - loss: 0.5077 - accuracy: 0.8661 - val_loss: 0.4685 - val_accuracy: 0.8759\n",
      "Epoch 36/50\n",
      "44800/44800 [==============================] - 9s 198us/sample - loss: 0.5276 - accuracy: 0.8596 - val_loss: 0.4897 - val_accuracy: 0.8731\n",
      "Epoch 37/50\n",
      "44800/44800 [==============================] - 10s 218us/sample - loss: 0.4790 - accuracy: 0.8738 - val_loss: 0.4413 - val_accuracy: 0.8777\n",
      "Epoch 38/50\n",
      "44800/44800 [==============================] - 9s 205us/sample - loss: 0.4948 - accuracy: 0.8703 - val_loss: 0.6722 - val_accuracy: 0.8543\n",
      "Epoch 39/50\n",
      "44800/44800 [==============================] - 9s 198us/sample - loss: 0.5118 - accuracy: 0.8637 - val_loss: 0.4232 - val_accuracy: 0.8964\n",
      "Epoch 40/50\n",
      "44800/44800 [==============================] - 9s 198us/sample - loss: 0.5170 - accuracy: 0.8621 - val_loss: 0.4338 - val_accuracy: 0.8854\n",
      "Epoch 41/50\n",
      "44800/44800 [==============================] - 9s 202us/sample - loss: 0.4608 - accuracy: 0.8798 - val_loss: 0.3878 - val_accuracy: 0.8975\n",
      "Epoch 42/50\n",
      "44800/44800 [==============================] - 9s 192us/sample - loss: 0.4860 - accuracy: 0.8708 - val_loss: 0.4574 - val_accuracy: 0.8884\n",
      "Epoch 43/50\n",
      "44800/44800 [==============================] - 9s 198us/sample - loss: 0.4839 - accuracy: 0.8754 - val_loss: 0.5732 - val_accuracy: 0.8547\n",
      "Epoch 44/50\n",
      "44800/44800 [==============================] - 9s 191us/sample - loss: 0.4944 - accuracy: 0.8696 - val_loss: 0.5845 - val_accuracy: 0.8628\n",
      "Epoch 45/50\n",
      "44800/44800 [==============================] - 9s 192us/sample - loss: 0.4828 - accuracy: 0.8766 - val_loss: 0.6316 - val_accuracy: 0.8579\n",
      "Epoch 46/50\n",
      "44800/44800 [==============================] - 9s 193us/sample - loss: 0.4999 - accuracy: 0.8702 - val_loss: 0.5004 - val_accuracy: 0.8771\n",
      "Epoch 47/50\n",
      "44800/44800 [==============================] - 9s 195us/sample - loss: 0.4837 - accuracy: 0.8760 - val_loss: 0.4608 - val_accuracy: 0.8861\n",
      "Epoch 48/50\n",
      "44800/44800 [==============================] - 9s 193us/sample - loss: 0.4545 - accuracy: 0.8842 - val_loss: 0.5832 - val_accuracy: 0.8506\n",
      "Epoch 49/50\n",
      "44800/44800 [==============================] - 9s 196us/sample - loss: 0.4863 - accuracy: 0.8737 - val_loss: 0.4036 - val_accuracy: 0.9029\n",
      "Epoch 50/50\n",
      "44800/44800 [==============================] - 9s 193us/sample - loss: 0.4794 - accuracy: 0.8779 - val_loss: 0.4162 - val_accuracy: 0.8987\n",
      "Time:  445.8357223590001\n"
     ]
    }
   ],
   "source": [
    "# Start running time\n",
    "start = timeit.default_timer()\n",
    "\n",
    "# Train the model for 50 epochs and save metrics in metrics\n",
    "metrics = model.fit(X_train, Y_train,\n",
    "          batch_size=32, epochs=50,\n",
    "          validation_data=(X_val, Y_val))\n",
    "\n",
    "# Stop running time\n",
    "stop = timeit.default_timer()\n",
    "\n",
    "print(\"Time: \", stop - start)"
   ]
  },
  {
   "cell_type": "markdown",
   "metadata": {},
   "source": [
    "    Train on 44800 samples, validate on 11200 samples\n",
    "    Epoch 1/50\n",
    "    44800/44800 - 7s - loss: 0.5066 - accuracy: 0.8460 - val_loss: 0.6247 - val_accuracy: 0.8151\n",
    "    Epoch 2/50\n",
    "    44800/44800 - 7s - loss: 0.6177 - accuracy: 0.8074 - val_loss: 0.5418 - val_accuracy: 0.8266\n",
    "    Epoch 3/50\n",
    "    44800/44800 - 7s - loss: 0.6488 - accuracy: 0.8018 - val_loss: 0.6135 - val_accuracy: 0.8274\n",
    "    Epoch 4/50\n",
    "    44800/44800 - 7s - loss: 0.6220 - accuracy: 0.8136 - val_loss: 0.5896 - val_accuracy: 0.8185\n",
    "    Epoch 5/50\n",
    "    44800/44800 - 7s - loss: 0.6818 - accuracy: 0.7956 - val_loss: 0.5957 - val_accuracy: 0.8335\n",
    "    Epoch 6/50\n",
    "    44800/44800 - 7s - loss: 0.6337 - accuracy: 0.8123 - val_loss: 0.5276 - val_accuracy: 0.8631\n",
    "    Epoch 7/50\n",
    "    44800/44800 - 7s - loss: 0.6447 - accuracy: 0.8116 - val_loss: 0.5418 - val_accuracy: 0.8435\n",
    "    Epoch 8/50\n",
    "    44800/44800 - 7s - loss: 0.6053 - accuracy: 0.8293 - val_loss: 0.5552 - val_accuracy: 0.8512\n",
    "    Epoch 9/50\n",
    "    44800/44800 - 7s - loss: 0.5971 - accuracy: 0.8293 - val_loss: 0.5318 - val_accuracy: 0.8557\n",
    "    Epoch 10/50\n",
    "    44800/44800 - 7s - loss: 0.5432 - accuracy: 0.8479 - val_loss: 0.4715 - val_accuracy: 0.8632\n",
    "    Epoch 11/50\n",
    "    44800/44800 - 7s - loss: 0.6079 - accuracy: 0.8267 - val_loss: 0.6151 - val_accuracy: 0.8227\n",
    "    Epoch 12/50\n",
    "    44800/44800 - 7s - loss: 0.6054 - accuracy: 0.8276 - val_loss: 0.7932 - val_accuracy: 0.7508\n",
    "    Epoch 13/50\n",
    "    44800/44800 - 7s - loss: 0.6727 - accuracy: 0.8009 - val_loss: 0.6781 - val_accuracy: 0.8034\n",
    "    Epoch 14/50\n",
    "    44800/44800 - 7s - loss: 0.5956 - accuracy: 0.8384 - val_loss: 0.5778 - val_accuracy: 0.8352\n",
    "    Epoch 15/50\n",
    "    44800/44800 - 7s - loss: 0.5742 - accuracy: 0.8433 - val_loss: 0.5541 - val_accuracy: 0.8484\n",
    "    Epoch 16/50\n",
    "    44800/44800 - 7s - loss: 0.5634 - accuracy: 0.8451 - val_loss: 0.6291 - val_accuracy: 0.8196\n",
    "    Epoch 17/50\n",
    "    44800/44800 - 7s - loss: 0.5455 - accuracy: 0.8474 - val_loss: 0.5676 - val_accuracy: 0.8285\n",
    "    Epoch 18/50\n",
    "    44800/44800 - 7s - loss: 0.5379 - accuracy: 0.8548 - val_loss: 0.4959 - val_accuracy: 0.8719\n",
    "    Epoch 19/50\n",
    "    44800/44800 - 7s - loss: 0.5585 - accuracy: 0.8490 - val_loss: 0.5484 - val_accuracy: 0.8553\n",
    "    Epoch 20/50\n",
    "    44800/44800 - 7s - loss: 0.5554 - accuracy: 0.8497 - val_loss: 0.6176 - val_accuracy: 0.8368\n",
    "    Epoch 21/50\n",
    "    44800/44800 - 7s - loss: 0.5203 - accuracy: 0.8545 - val_loss: 0.5572 - val_accuracy: 0.8153\n",
    "    Epoch 22/50\n",
    "    44800/44800 - 7s - loss: 0.5557 - accuracy: 0.8490 - val_loss: 0.5362 - val_accuracy: 0.8467\n",
    "    Epoch 23/50\n",
    "    44800/44800 - 7s - loss: 0.5413 - accuracy: 0.8573 - val_loss: 0.4858 - val_accuracy: 0.8728\n",
    "    Epoch 24/50\n",
    "    44800/44800 - 7s - loss: 0.5455 - accuracy: 0.8567 - val_loss: 0.6415 - val_accuracy: 0.8429\n",
    "    Epoch 25/50\n",
    "    44800/44800 - 7s - loss: 0.5278 - accuracy: 0.8618 - val_loss: 0.5093 - val_accuracy: 0.8704\n",
    "    Epoch 26/50\n",
    "    44800/44800 - 7s - loss: 0.5056 - accuracy: 0.8606 - val_loss: 0.6144 - val_accuracy: 0.8446\n",
    "    Epoch 27/50\n",
    "    44800/44800 - 7s - loss: 0.4808 - accuracy: 0.8757 - val_loss: 0.4533 - val_accuracy: 0.8815\n",
    "    Epoch 28/50\n",
    "    44800/44800 - 7s - loss: 0.5082 - accuracy: 0.8653 - val_loss: 0.5514 - val_accuracy: 0.8621\n",
    "    Epoch 29/50\n",
    "    44800/44800 - 7s - loss: 0.5235 - accuracy: 0.8606 - val_loss: 0.4918 - val_accuracy: 0.8768\n",
    "    Epoch 30/50\n",
    "    44800/44800 - 7s - loss: 0.4992 - accuracy: 0.8722 - val_loss: 0.5018 - val_accuracy: 0.8729\n",
    "    Epoch 31/50\n",
    "    44800/44800 - 7s - loss: 0.4938 - accuracy: 0.8687 - val_loss: 0.4629 - val_accuracy: 0.8822\n",
    "    Epoch 32/50\n",
    "    44800/44800 - 7s - loss: 0.5074 - accuracy: 0.8667 - val_loss: 0.4671 - val_accuracy: 0.8607\n",
    "    Epoch 33/50\n",
    "    44800/44800 - 7s - loss: 0.5286 - accuracy: 0.8597 - val_loss: 0.4884 - val_accuracy: 0.8599\n",
    "    Epoch 34/50\n",
    "    44800/44800 - 8s - loss: 0.5399 - accuracy: 0.8555 - val_loss: 0.5336 - val_accuracy: 0.8609\n",
    "    Epoch 35/50\n",
    "    44800/44800 - 8s - loss: 0.5077 - accuracy: 0.8661 - val_loss: 0.4685 - val_accuracy: 0.8759\n",
    "    Epoch 36/50\n",
    "    44800/44800 - 7s - loss: 0.5276 - accuracy: 0.8596 - val_loss: 0.4897 - val_accuracy: 0.8731\n",
    "    Epoch 37/50\n",
    "    44800/44800 - 7s - loss: 0.4790 - accuracy: 0.8738 - val_loss: 0.4413 - val_accuracy: 0.8777\n",
    "    Epoch 38/50\n",
    "    44800/44800 - 7s - loss: 0.4948 - accuracy: 0.8703 - val_loss: 0.6722 - val_accuracy: 0.8543\n",
    "    Epoch 39/50\n",
    "    44800/44800 - 7s - loss: 0.5118 - accuracy: 0.8637 - val_loss: 0.4232 - val_accuracy: 0.8964\n",
    "    Epoch 40/50\n",
    "    44800/44800 - 7s - loss: 0.5170 - accuracy: 0.8621 - val_loss: 0.4338 - val_accuracy: 0.8854\n",
    "    Epoch 41/50\n",
    "    44800/44800 - 7s - loss: 0.4608 - accuracy: 0.8798 - val_loss: 0.3878 - val_accuracy: 0.8975\n",
    "    Epoch 42/50\n",
    "    44800/44800 - 7s - loss: 0.4860 - accuracy: 0.8708 - val_loss: 0.4574 - val_accuracy: 0.8884\n",
    "    Epoch 43/50\n",
    "    44800/44800 - 7s - loss: 0.4839 - accuracy: 0.8754 - val_loss: 0.5732 - val_accuracy: 0.8547\n",
    "    Epoch 44/50\n",
    "    44800/44800 - 7s - loss: 0.4944 - accuracy: 0.8696 - val_loss: 0.5845 - val_accuracy: 0.8628\n",
    "    Epoch 45/50\n",
    "    44800/44800 - 7s - loss: 0.4828 - accuracy: 0.8766 - val_loss: 0.6316 - val_accuracy: 0.8579\n",
    "    Epoch 46/50\n",
    "    44800/44800 - 7s - loss: 0.4999 - accuracy: 0.8702 - val_loss: 0.5004 - val_accuracy: 0.8771\n",
    "    Epoch 47/50\n",
    "    44800/44800 - 7s - loss: 0.4837 - accuracy: 0.8760 - val_loss: 0.4608 - val_accuracy: 0.8861\n",
    "    Epoch 48/50\n",
    "    44800/44800 - 7s - loss: 0.4545 - accuracy: 0.8842 - val_loss: 0.5832 - val_accuracy: 0.8506\n",
    "    Epoch 49/50\n",
    "    44800/44800 - 7s - loss: 0.4863 - accuracy: 0.8737 - val_loss: 0.4036 - val_accuracy: 0.9029\n",
    "    Epoch 50/50\n",
    "    44800/44800 - 7s - loss: 0.4794 - accuracy: 0.8779 - val_loss: 0.4162 - val_accuracy: 0.8987"
   ]
  },
  {
   "cell_type": "code",
   "execution_count": 41,
   "metadata": {},
   "outputs": [],
   "source": [
    "# Make predictions using X_test\n",
    "y_pred = model.predict_classes(X_test)\n",
    "\n",
    "# Reshape predictions array (22800,1)\n",
    "y_pred = y_pred.reshape(-1,1)"
   ]
  },
  {
   "cell_type": "code",
   "execution_count": 42,
   "metadata": {},
   "outputs": [
    {
     "data": {
      "text/html": [
       "<div>\n",
       "<style scoped>\n",
       "    .dataframe tbody tr th:only-of-type {\n",
       "        vertical-align: middle;\n",
       "    }\n",
       "\n",
       "    .dataframe tbody tr th {\n",
       "        vertical-align: top;\n",
       "    }\n",
       "\n",
       "    .dataframe thead th {\n",
       "        text-align: right;\n",
       "    }\n",
       "</style>\n",
       "<table border=\"1\" class=\"dataframe\">\n",
       "  <thead>\n",
       "    <tr style=\"text-align: right;\">\n",
       "      <th></th>\n",
       "      <th>Y_Pred</th>\n",
       "    </tr>\n",
       "  </thead>\n",
       "  <tbody>\n",
       "    <tr>\n",
       "      <td>0</td>\n",
       "      <td>1</td>\n",
       "    </tr>\n",
       "    <tr>\n",
       "      <td>1</td>\n",
       "      <td>2</td>\n",
       "    </tr>\n",
       "    <tr>\n",
       "      <td>2</td>\n",
       "      <td>9</td>\n",
       "    </tr>\n",
       "    <tr>\n",
       "      <td>3</td>\n",
       "      <td>8</td>\n",
       "    </tr>\n",
       "    <tr>\n",
       "      <td>4</td>\n",
       "      <td>5</td>\n",
       "    </tr>\n",
       "  </tbody>\n",
       "</table>\n",
       "</div>"
      ],
      "text/plain": [
       "   Y_Pred\n",
       "0       1\n",
       "1       2\n",
       "2       9\n",
       "3       8\n",
       "4       5"
      ]
     },
     "execution_count": 42,
     "metadata": {},
     "output_type": "execute_result"
    }
   ],
   "source": [
    "# Convert y_pred 1D Numpy Array to List\n",
    "y_pred = y_pred.tolist()\n",
    "\n",
    "# Flatten list of lists\n",
    "y_pred_flat = list(np.concatenate(y_pred))\n",
    "\n",
    "predictions = pd.DataFrame({\"Y_Pred\": y_pred_flat})\n",
    "predictions.head()"
   ]
  },
  {
   "cell_type": "code",
   "execution_count": 43,
   "metadata": {},
   "outputs": [
    {
     "name": "stdout",
     "output_type": "stream",
     "text": [
      "11200/11200 [==============================] - 1s 70us/sample - loss: 0.4162 - accuracy: 0.8987\n",
      "Test accuracy: 89.866%\n"
     ]
    }
   ],
   "source": [
    "# evaluate test accuracy before train\n",
    "score = model.evaluate(X_val, Y_val, batch_size=32)\n",
    "accuracy = 100*score[1]\n",
    "\n",
    "# print test accuracy\n",
    "print('Test accuracy: %.3f%%' % accuracy)"
   ]
  },
  {
   "cell_type": "code",
   "execution_count": 44,
   "metadata": {},
   "outputs": [],
   "source": [
    "# Save predictions to CSV file\n",
    "predictions.to_csv('Q4_prediction.csv')"
   ]
  },
  {
   "cell_type": "markdown",
   "metadata": {},
   "source": [
    "### Experiment with four optimizers: SGD, Adam, Momentum, and RMSprop"
   ]
  },
  {
   "cell_type": "code",
   "execution_count": 45,
   "metadata": {},
   "outputs": [],
   "source": [
    "from keras.callbacks import CSVLogger\n",
    "callbacks = []\n",
    "\n",
    "# Create csv file to save model results\n",
    "log1 = CSVLogger('Adam_train_log.csv', append=True, separator=';')\n",
    "log2 = CSVLogger('SGD_train_log.csv', append=True, separator=';')\n",
    "log3 = CSVLogger('Momentum_train_log.csv', append=True, separator=';')\n",
    "log4 = CSVLogger('RMSprop_train_log.csv', append=True, separator=';')"
   ]
  },
  {
   "cell_type": "code",
   "execution_count": 46,
   "metadata": {},
   "outputs": [
    {
     "name": "stdout",
     "output_type": "stream",
     "text": [
      "Train on 44800 samples, validate on 11200 samples\n",
      "Epoch 1/50\n",
      "44800/44800 [==============================] - 9s 206us/sample - loss: 0.4529 - accuracy: 0.8883 - val_loss: 0.5387 - val_accuracy: 0.8662\n",
      "Epoch 2/50\n",
      "44800/44800 [==============================] - 9s 197us/sample - loss: 0.4652 - accuracy: 0.8808 - val_loss: 0.4029 - val_accuracy: 0.9042\n",
      "Epoch 3/50\n",
      "44800/44800 [==============================] - 9s 193us/sample - loss: 0.4695 - accuracy: 0.8824 - val_loss: 0.4826 - val_accuracy: 0.8888\n",
      "Epoch 4/50\n",
      "44800/44800 [==============================] - 9s 192us/sample - loss: 0.4721 - accuracy: 0.8790 - val_loss: 0.5074 - val_accuracy: 0.8792\n",
      "Epoch 5/50\n",
      "44800/44800 [==============================] - 9s 190us/sample - loss: 0.4525 - accuracy: 0.8831 - val_loss: 0.4842 - val_accuracy: 0.8756\n",
      "Epoch 6/50\n",
      "44800/44800 [==============================] - 9s 190us/sample - loss: 0.4524 - accuracy: 0.8828 - val_loss: 0.7737 - val_accuracy: 0.8178\n",
      "Epoch 7/50\n",
      "44800/44800 [==============================] - 9s 193us/sample - loss: 0.4473 - accuracy: 0.8861 - val_loss: 0.4343 - val_accuracy: 0.8869\n",
      "Epoch 8/50\n",
      "44800/44800 [==============================] - 9s 191us/sample - loss: 0.4495 - accuracy: 0.8875 - val_loss: 0.4191 - val_accuracy: 0.9078\n",
      "Epoch 9/50\n",
      "44800/44800 [==============================] - 9s 190us/sample - loss: 0.4422 - accuracy: 0.8899 - val_loss: 0.4815 - val_accuracy: 0.8824\n",
      "Epoch 10/50\n",
      "44800/44800 [==============================] - 9s 191us/sample - loss: 0.4434 - accuracy: 0.8861 - val_loss: 0.3783 - val_accuracy: 0.9089\n",
      "Epoch 11/50\n",
      "44800/44800 [==============================] - 9s 191us/sample - loss: 0.4603 - accuracy: 0.8811 - val_loss: 0.4880 - val_accuracy: 0.8818\n",
      "Epoch 12/50\n",
      "44800/44800 [==============================] - 9s 191us/sample - loss: 0.4483 - accuracy: 0.8871 - val_loss: 0.4666 - val_accuracy: 0.8841\n",
      "Epoch 13/50\n",
      "44800/44800 [==============================] - 9s 191us/sample - loss: 0.4664 - accuracy: 0.8793 - val_loss: 0.4819 - val_accuracy: 0.8766\n",
      "Epoch 14/50\n",
      "44800/44800 [==============================] - 9s 191us/sample - loss: 0.4341 - accuracy: 0.8907 - val_loss: 0.7004 - val_accuracy: 0.8495\n",
      "Epoch 15/50\n",
      "44800/44800 [==============================] - 9s 208us/sample - loss: 0.4380 - accuracy: 0.8910 - val_loss: 0.4883 - val_accuracy: 0.8887\n",
      "Epoch 16/50\n",
      "44800/44800 [==============================] - 9s 191us/sample - loss: 0.4692 - accuracy: 0.8799 - val_loss: 0.5770 - val_accuracy: 0.8537\n",
      "Epoch 17/50\n",
      "44800/44800 [==============================] - 9s 192us/sample - loss: 0.4326 - accuracy: 0.8912 - val_loss: 0.4469 - val_accuracy: 0.8965\n",
      "Epoch 18/50\n",
      "44800/44800 [==============================] - 9s 192us/sample - loss: 0.4397 - accuracy: 0.8862 - val_loss: 0.5827 - val_accuracy: 0.8261\n",
      "Epoch 19/50\n",
      "44800/44800 [==============================] - 9s 197us/sample - loss: 0.4469 - accuracy: 0.8804 - val_loss: 0.4207 - val_accuracy: 0.8862\n",
      "Epoch 20/50\n",
      "44800/44800 [==============================] - 9s 195us/sample - loss: 0.4433 - accuracy: 0.8875 - val_loss: 0.4632 - val_accuracy: 0.8918\n",
      "Epoch 21/50\n",
      "44800/44800 [==============================] - 9s 193us/sample - loss: 0.4618 - accuracy: 0.8847 - val_loss: 0.4658 - val_accuracy: 0.8892\n",
      "Epoch 22/50\n",
      "44800/44800 [==============================] - 10s 219us/sample - loss: 0.4496 - accuracy: 0.8843 - val_loss: 0.4628 - val_accuracy: 0.8961\n",
      "Epoch 23/50\n",
      "44800/44800 [==============================] - 9s 193us/sample - loss: 0.4339 - accuracy: 0.8910 - val_loss: 0.5191 - val_accuracy: 0.8647\n",
      "Epoch 24/50\n",
      "44800/44800 [==============================] - 9s 195us/sample - loss: 0.4273 - accuracy: 0.8898 - val_loss: 0.4285 - val_accuracy: 0.9053\n",
      "Epoch 25/50\n",
      "44800/44800 [==============================] - 9s 204us/sample - loss: 0.4295 - accuracy: 0.8902 - val_loss: 0.4150 - val_accuracy: 0.9003\n",
      "Epoch 26/50\n",
      "44800/44800 [==============================] - 9s 193us/sample - loss: 0.3930 - accuracy: 0.9041 - val_loss: 0.3693 - val_accuracy: 0.9113\n",
      "Epoch 27/50\n",
      "44800/44800 [==============================] - 9s 191us/sample - loss: 0.4259 - accuracy: 0.8913 - val_loss: 0.5109 - val_accuracy: 0.8699\n",
      "Epoch 28/50\n",
      "44800/44800 [==============================] - 9s 199us/sample - loss: 0.4343 - accuracy: 0.8908 - val_loss: 0.4955 - val_accuracy: 0.8832\n",
      "Epoch 29/50\n",
      "44800/44800 [==============================] - 9s 197us/sample - loss: 0.4327 - accuracy: 0.8908 - val_loss: 0.3885 - val_accuracy: 0.9021\n",
      "Epoch 30/50\n",
      "44800/44800 [==============================] - 9s 195us/sample - loss: 0.4463 - accuracy: 0.8885 - val_loss: 0.4588 - val_accuracy: 0.8955\n",
      "Epoch 31/50\n",
      "44800/44800 [==============================] - 9s 197us/sample - loss: 0.4382 - accuracy: 0.8878 - val_loss: 0.4110 - val_accuracy: 0.8893\n",
      "Epoch 32/50\n",
      "44800/44800 [==============================] - 9s 196us/sample - loss: 0.4416 - accuracy: 0.8871 - val_loss: 0.3825 - val_accuracy: 0.9081\n",
      "Epoch 33/50\n",
      "44800/44800 [==============================] - 9s 196us/sample - loss: 0.4414 - accuracy: 0.8880 - val_loss: 0.4411 - val_accuracy: 0.8788\n",
      "Epoch 34/50\n",
      "44800/44800 [==============================] - 9s 195us/sample - loss: 0.4360 - accuracy: 0.8893 - val_loss: 0.3846 - val_accuracy: 0.9026\n",
      "Epoch 35/50\n",
      "44800/44800 [==============================] - 9s 197us/sample - loss: 0.4346 - accuracy: 0.8892 - val_loss: 0.3324 - val_accuracy: 0.9208\n",
      "Epoch 36/50\n",
      "44800/44800 [==============================] - 9s 196us/sample - loss: 0.4199 - accuracy: 0.8932 - val_loss: 0.6095 - val_accuracy: 0.8513\n",
      "Epoch 37/50\n",
      "44800/44800 [==============================] - 9s 193us/sample - loss: 0.4248 - accuracy: 0.8906 - val_loss: 0.4680 - val_accuracy: 0.8854\n",
      "Epoch 38/50\n",
      "44800/44800 [==============================] - 9s 196us/sample - loss: 0.4375 - accuracy: 0.8918 - val_loss: 0.4804 - val_accuracy: 0.8888\n",
      "Epoch 39/50\n",
      "44800/44800 [==============================] - 9s 199us/sample - loss: 0.4132 - accuracy: 0.8949 - val_loss: 0.4092 - val_accuracy: 0.8998\n",
      "Epoch 40/50\n",
      "44800/44800 [==============================] - 9s 197us/sample - loss: 0.4269 - accuracy: 0.8915 - val_loss: 0.4829 - val_accuracy: 0.8856\n",
      "Epoch 41/50\n",
      "44800/44800 [==============================] - 9s 197us/sample - loss: 0.4191 - accuracy: 0.8962 - val_loss: 0.3498 - val_accuracy: 0.9064\n",
      "Epoch 42/50\n",
      "44800/44800 [==============================] - 9s 198us/sample - loss: 0.4357 - accuracy: 0.8883 - val_loss: 0.3975 - val_accuracy: 0.9025\n",
      "Epoch 43/50\n",
      "44800/44800 [==============================] - 9s 195us/sample - loss: 0.4005 - accuracy: 0.8985 - val_loss: 0.4080 - val_accuracy: 0.9001\n",
      "Epoch 44/50\n",
      "44800/44800 [==============================] - 9s 198us/sample - loss: 0.4076 - accuracy: 0.8976 - val_loss: 0.4393 - val_accuracy: 0.8951\n",
      "Epoch 45/50\n",
      "44800/44800 [==============================] - 9s 197us/sample - loss: 0.4133 - accuracy: 0.8966 - val_loss: 0.3356 - val_accuracy: 0.9077\n",
      "Epoch 46/50\n",
      "44800/44800 [==============================] - 9s 196us/sample - loss: 0.4101 - accuracy: 0.9011 - val_loss: 0.3854 - val_accuracy: 0.9064\n",
      "Epoch 47/50\n",
      "44800/44800 [==============================] - 9s 197us/sample - loss: 0.4036 - accuracy: 0.8981 - val_loss: 0.6845 - val_accuracy: 0.8427\n",
      "Epoch 48/50\n",
      "44800/44800 [==============================] - 9s 196us/sample - loss: 0.4036 - accuracy: 0.8977 - val_loss: 0.4339 - val_accuracy: 0.8914\n",
      "Epoch 49/50\n",
      "44800/44800 [==============================] - 9s 192us/sample - loss: 0.4187 - accuracy: 0.8987 - val_loss: 0.3704 - val_accuracy: 0.9017\n",
      "Epoch 50/50\n",
      "44800/44800 [==============================] - 9s 211us/sample - loss: 0.4095 - accuracy: 0.8957 - val_loss: 0.4828 - val_accuracy: 0.8929\n",
      "Time:  439.243390179\n"
     ]
    }
   ],
   "source": [
    "#1) Adam\n",
    "model.compile(optimizer=tf.keras.optimizers.Adam(lr=0.01), loss='categorical_crossentropy', metrics=['accuracy'])\n",
    "\n",
    "# Start running time\n",
    "start = timeit.default_timer()\n",
    "\n",
    "# Train the model for 50 epochs using Adam optimizer\n",
    "adam_metrics = model.fit(X_train, Y_train, batch_size=32, epochs=50, validation_data=(X_val, Y_val), callbacks=[log1])\n",
    "\n",
    "callbacks.append(CSVLogger(log1))\n",
    "\n",
    "# Stop running time\n",
    "stop = timeit.default_timer()\n",
    "\n",
    "print(\"Time: \", stop - start) #Time:  404.5758666740003s\n"
   ]
  },
  {
   "cell_type": "markdown",
   "metadata": {},
   "source": [
    "### Adam Optimizer Performance Metrics:\n",
    "\n",
    "* Overall validation accuracy: 0.9144\n",
    "* Test accuracy: 0.8938\n",
    "* Training time: 6.7 mins\n",
    "* Training loss: 0.4053\n",
    "* Validation loss: 0.3349"
   ]
  },
  {
   "cell_type": "code",
   "execution_count": 47,
   "metadata": {},
   "outputs": [
    {
     "name": "stdout",
     "output_type": "stream",
     "text": [
      "Train on 44800 samples, validate on 11200 samples\n",
      "Epoch 1/50\n",
      "44800/44800 [==============================] - 8s 169us/sample - loss: 0.3147 - accuracy: 0.9174 - val_loss: 0.3357 - val_accuracy: 0.9109\n",
      "Epoch 2/50\n",
      "44800/44800 [==============================] - 7s 162us/sample - loss: 0.3021 - accuracy: 0.9195 - val_loss: 0.3310 - val_accuracy: 0.9131\n",
      "Epoch 3/50\n",
      "44800/44800 [==============================] - 7s 167us/sample - loss: 0.2948 - accuracy: 0.9212 - val_loss: 0.3220 - val_accuracy: 0.9145\n",
      "Epoch 4/50\n",
      "44800/44800 [==============================] - 7s 163us/sample - loss: 0.2891 - accuracy: 0.9225 - val_loss: 0.3210 - val_accuracy: 0.9134\n",
      "Epoch 5/50\n",
      "44800/44800 [==============================] - 7s 166us/sample - loss: 0.2846 - accuracy: 0.9227 - val_loss: 0.3148 - val_accuracy: 0.9139\n",
      "Epoch 6/50\n",
      "44800/44800 [==============================] - 8s 170us/sample - loss: 0.2809 - accuracy: 0.9227 - val_loss: 0.3126 - val_accuracy: 0.9143\n",
      "Epoch 7/50\n",
      "44800/44800 [==============================] - 8s 178us/sample - loss: 0.2772 - accuracy: 0.9239 - val_loss: 0.3098 - val_accuracy: 0.9128\n",
      "Epoch 8/50\n",
      "44800/44800 [==============================] - 9s 190us/sample - loss: 0.2746 - accuracy: 0.9245 - val_loss: 0.3073 - val_accuracy: 0.9153\n",
      "Epoch 9/50\n",
      "44800/44800 [==============================] - 8s 168us/sample - loss: 0.2719 - accuracy: 0.9246 - val_loss: 0.3036 - val_accuracy: 0.9139\n",
      "Epoch 10/50\n",
      "44800/44800 [==============================] - 8s 175us/sample - loss: 0.2697 - accuracy: 0.9247 - val_loss: 0.3025 - val_accuracy: 0.9148\n",
      "Epoch 11/50\n",
      "44800/44800 [==============================] - 7s 164us/sample - loss: 0.2677 - accuracy: 0.9246 - val_loss: 0.3026 - val_accuracy: 0.9141\n",
      "Epoch 12/50\n",
      "44800/44800 [==============================] - 7s 165us/sample - loss: 0.2660 - accuracy: 0.9252 - val_loss: 0.2983 - val_accuracy: 0.9144\n",
      "Epoch 13/50\n",
      "44800/44800 [==============================] - 7s 165us/sample - loss: 0.2645 - accuracy: 0.9253 - val_loss: 0.2972 - val_accuracy: 0.9148\n",
      "Epoch 14/50\n",
      "44800/44800 [==============================] - 7s 164us/sample - loss: 0.2635 - accuracy: 0.9262 - val_loss: 0.2969 - val_accuracy: 0.9150\n",
      "Epoch 15/50\n",
      "44800/44800 [==============================] - 7s 162us/sample - loss: 0.2621 - accuracy: 0.9253 - val_loss: 0.2984 - val_accuracy: 0.9163\n",
      "Epoch 16/50\n",
      "44800/44800 [==============================] - 7s 165us/sample - loss: 0.2606 - accuracy: 0.9257 - val_loss: 0.2958 - val_accuracy: 0.9154\n",
      "Epoch 17/50\n",
      "44800/44800 [==============================] - 7s 164us/sample - loss: 0.2596 - accuracy: 0.9264 - val_loss: 0.2935 - val_accuracy: 0.9162\n",
      "Epoch 18/50\n",
      "44800/44800 [==============================] - 7s 165us/sample - loss: 0.2586 - accuracy: 0.9260 - val_loss: 0.2961 - val_accuracy: 0.9164\n",
      "Epoch 19/50\n",
      "44800/44800 [==============================] - 7s 165us/sample - loss: 0.2578 - accuracy: 0.9261 - val_loss: 0.2911 - val_accuracy: 0.9150\n",
      "Epoch 20/50\n",
      "44800/44800 [==============================] - 8s 168us/sample - loss: 0.2567 - accuracy: 0.9266 - val_loss: 0.2948 - val_accuracy: 0.9153\n",
      "Epoch 21/50\n",
      "44800/44800 [==============================] - 8s 168us/sample - loss: 0.2562 - accuracy: 0.9270 - val_loss: 0.2915 - val_accuracy: 0.9166\n",
      "Epoch 22/50\n",
      "44800/44800 [==============================] - 8s 168us/sample - loss: 0.2554 - accuracy: 0.9266 - val_loss: 0.2901 - val_accuracy: 0.9152\n",
      "Epoch 23/50\n",
      "44800/44800 [==============================] - 7s 165us/sample - loss: 0.2548 - accuracy: 0.9265 - val_loss: 0.2900 - val_accuracy: 0.9148\n",
      "Epoch 24/50\n",
      "44800/44800 [==============================] - 7s 161us/sample - loss: 0.2544 - accuracy: 0.9267 - val_loss: 0.2910 - val_accuracy: 0.9165\n",
      "Epoch 25/50\n",
      "44800/44800 [==============================] - 7s 162us/sample - loss: 0.2538 - accuracy: 0.9273 - val_loss: 0.2886 - val_accuracy: 0.9154\n",
      "Epoch 26/50\n",
      "44800/44800 [==============================] - 7s 161us/sample - loss: 0.2532 - accuracy: 0.9274 - val_loss: 0.2881 - val_accuracy: 0.9160\n",
      "Epoch 27/50\n",
      "44800/44800 [==============================] - 7s 159us/sample - loss: 0.2529 - accuracy: 0.9270 - val_loss: 0.2888 - val_accuracy: 0.9171\n",
      "Epoch 28/50\n",
      "44800/44800 [==============================] - 7s 159us/sample - loss: 0.2525 - accuracy: 0.9274 - val_loss: 0.2865 - val_accuracy: 0.9163\n",
      "Epoch 29/50\n",
      "44800/44800 [==============================] - 7s 164us/sample - loss: 0.2517 - accuracy: 0.9275 - val_loss: 0.2863 - val_accuracy: 0.9161\n",
      "Epoch 30/50\n",
      "44800/44800 [==============================] - 7s 162us/sample - loss: 0.2514 - accuracy: 0.9277 - val_loss: 0.2865 - val_accuracy: 0.9156\n",
      "Epoch 31/50\n",
      "44800/44800 [==============================] - 7s 161us/sample - loss: 0.2508 - accuracy: 0.9276 - val_loss: 0.2869 - val_accuracy: 0.9146\n",
      "Epoch 32/50\n",
      "44800/44800 [==============================] - 7s 161us/sample - loss: 0.2506 - accuracy: 0.9281 - val_loss: 0.2857 - val_accuracy: 0.9162\n",
      "Epoch 33/50\n",
      "44800/44800 [==============================] - 7s 162us/sample - loss: 0.2502 - accuracy: 0.9276 - val_loss: 0.2878 - val_accuracy: 0.9162\n",
      "Epoch 34/50\n",
      "44800/44800 [==============================] - 7s 161us/sample - loss: 0.2496 - accuracy: 0.9280 - val_loss: 0.2864 - val_accuracy: 0.9146\n",
      "Epoch 35/50\n",
      "44800/44800 [==============================] - 7s 160us/sample - loss: 0.2496 - accuracy: 0.9288 - val_loss: 0.2855 - val_accuracy: 0.9158\n",
      "Epoch 36/50\n",
      "44800/44800 [==============================] - 7s 164us/sample - loss: 0.2494 - accuracy: 0.9282 - val_loss: 0.2837 - val_accuracy: 0.9158\n",
      "Epoch 37/50\n",
      "44800/44800 [==============================] - 8s 169us/sample - loss: 0.2490 - accuracy: 0.9277 - val_loss: 0.2839 - val_accuracy: 0.9162\n",
      "Epoch 38/50\n",
      "44800/44800 [==============================] - 8s 168us/sample - loss: 0.2483 - accuracy: 0.9276 - val_loss: 0.2848 - val_accuracy: 0.9173\n",
      "Epoch 39/50\n",
      "44800/44800 [==============================] - 7s 167us/sample - loss: 0.2483 - accuracy: 0.9285 - val_loss: 0.2851 - val_accuracy: 0.9162\n",
      "Epoch 40/50\n",
      "44800/44800 [==============================] - 8s 186us/sample - loss: 0.2480 - accuracy: 0.9285 - val_loss: 0.2845 - val_accuracy: 0.9151\n",
      "Epoch 41/50\n",
      "44800/44800 [==============================] - 8s 173us/sample - loss: 0.2479 - accuracy: 0.9284 - val_loss: 0.2820 - val_accuracy: 0.9162\n",
      "Epoch 42/50\n",
      "44800/44800 [==============================] - 7s 165us/sample - loss: 0.2477 - accuracy: 0.9286 - val_loss: 0.2839 - val_accuracy: 0.9175\n",
      "Epoch 43/50\n",
      "44800/44800 [==============================] - 8s 169us/sample - loss: 0.2472 - accuracy: 0.9287 - val_loss: 0.2824 - val_accuracy: 0.9166\n",
      "Epoch 44/50\n",
      "44800/44800 [==============================] - 8s 176us/sample - loss: 0.2472 - accuracy: 0.9283 - val_loss: 0.2835 - val_accuracy: 0.9151\n",
      "Epoch 45/50\n",
      "44800/44800 [==============================] - 8s 174us/sample - loss: 0.2469 - accuracy: 0.9295 - val_loss: 0.2831 - val_accuracy: 0.9169\n",
      "Epoch 46/50\n",
      "44800/44800 [==============================] - 8s 168us/sample - loss: 0.2469 - accuracy: 0.9289 - val_loss: 0.2815 - val_accuracy: 0.9159\n",
      "Epoch 47/50\n",
      "44800/44800 [==============================] - 8s 169us/sample - loss: 0.2466 - accuracy: 0.9287 - val_loss: 0.2834 - val_accuracy: 0.9168\n",
      "Epoch 48/50\n",
      "44800/44800 [==============================] - 8s 172us/sample - loss: 0.2460 - accuracy: 0.9290 - val_loss: 0.2812 - val_accuracy: 0.9161\n",
      "Epoch 49/50\n",
      "44800/44800 [==============================] - 9s 193us/sample - loss: 0.2459 - accuracy: 0.9291 - val_loss: 0.2807 - val_accuracy: 0.9168\n",
      "Epoch 50/50\n",
      "44800/44800 [==============================] - 9s 200us/sample - loss: 0.2459 - accuracy: 0.9284 - val_loss: 0.2823 - val_accuracy: 0.9173\n",
      "Time:  376.7197854700007\n"
     ]
    }
   ],
   "source": [
    "#2) SGD\n",
    "model.compile(optimizer=tf.keras.optimizers.SGD(learning_rate=0.01, momentum=0.0), loss='categorical_crossentropy', metrics=['accuracy'])\n",
    "\n",
    "# Start running time\n",
    "start = timeit.default_timer()\n",
    "\n",
    "# Train the model for 50 epochs using SGD optimizer\n",
    "sgd_metrics = model.fit(X_train, Y_train, batch_size=32, epochs=50, validation_data=(X_val, Y_val), callbacks=[log2])\n",
    "\n",
    "callbacks.append(CSVLogger(log2))\n",
    "\n",
    "# Stop running time\n",
    "stop = timeit.default_timer()\n",
    "\n",
    "print(\"Time: \", stop - start)"
   ]
  },
  {
   "cell_type": "markdown",
   "metadata": {},
   "source": [
    "### SGD Optimizer Performance Metrics:\n",
    "\n",
    "* Overall validation accuracy: 0.8987\n",
    "* Test accuracy: 0.8779\n",
    "* Training time: 9.3 mins\n",
    "* Training loss: 0.4794\n",
    "* Validation loss: 0.4162"
   ]
  },
  {
   "cell_type": "code",
   "execution_count": 48,
   "metadata": {},
   "outputs": [
    {
     "name": "stdout",
     "output_type": "stream",
     "text": [
      "Train on 44800 samples, validate on 11200 samples\n",
      "Epoch 1/50\n",
      "44800/44800 [==============================] - 8s 189us/sample - loss: 0.2557 - accuracy: 0.9269 - val_loss: 0.2918 - val_accuracy: 0.9162\n",
      "Epoch 2/50\n",
      "44800/44800 [==============================] - 8s 188us/sample - loss: 0.2537 - accuracy: 0.9269 - val_loss: 0.2845 - val_accuracy: 0.9182\n",
      "Epoch 3/50\n",
      "44800/44800 [==============================] - 8s 184us/sample - loss: 0.2533 - accuracy: 0.9280 - val_loss: 0.2978 - val_accuracy: 0.9143\n",
      "Epoch 4/50\n",
      "44800/44800 [==============================] - 9s 212us/sample - loss: 0.2533 - accuracy: 0.9271 - val_loss: 0.2844 - val_accuracy: 0.9155\n",
      "Epoch 5/50\n",
      "44800/44800 [==============================] - 10s 218us/sample - loss: 0.2505 - accuracy: 0.9277 - val_loss: 0.2862 - val_accuracy: 0.9168\n",
      "Epoch 6/50\n",
      "44800/44800 [==============================] - 10s 223us/sample - loss: 0.2501 - accuracy: 0.9283 - val_loss: 0.2842 - val_accuracy: 0.9179\n",
      "Epoch 7/50\n",
      "44800/44800 [==============================] - 10s 217us/sample - loss: 0.2491 - accuracy: 0.9288 - val_loss: 0.2791 - val_accuracy: 0.9171\n",
      "Epoch 8/50\n",
      "44800/44800 [==============================] - 10s 221us/sample - loss: 0.2494 - accuracy: 0.9287 - val_loss: 0.2851 - val_accuracy: 0.9198\n",
      "Epoch 9/50\n",
      "44800/44800 [==============================] - 10s 212us/sample - loss: 0.2479 - accuracy: 0.9285 - val_loss: 0.2851 - val_accuracy: 0.9170\n",
      "Epoch 10/50\n",
      "44800/44800 [==============================] - 9s 211us/sample - loss: 0.2477 - accuracy: 0.9289 - val_loss: 0.2835 - val_accuracy: 0.9171\n",
      "Epoch 11/50\n",
      "44800/44800 [==============================] - 9s 207us/sample - loss: 0.2468 - accuracy: 0.9293 - val_loss: 0.2823 - val_accuracy: 0.9181\n",
      "Epoch 12/50\n",
      "44800/44800 [==============================] - 9s 198us/sample - loss: 0.2454 - accuracy: 0.9291 - val_loss: 0.2862 - val_accuracy: 0.9187\n",
      "Epoch 13/50\n",
      "44800/44800 [==============================] - 9s 194us/sample - loss: 0.2461 - accuracy: 0.9297 - val_loss: 0.2800 - val_accuracy: 0.9198\n",
      "Epoch 14/50\n",
      "44800/44800 [==============================] - 9s 199us/sample - loss: 0.2445 - accuracy: 0.9303 - val_loss: 0.2847 - val_accuracy: 0.9183\n",
      "Epoch 15/50\n",
      "44800/44800 [==============================] - 9s 209us/sample - loss: 0.2437 - accuracy: 0.9296 - val_loss: 0.2783 - val_accuracy: 0.9207\n",
      "Epoch 16/50\n",
      "44800/44800 [==============================] - 10s 215us/sample - loss: 0.2431 - accuracy: 0.9308 - val_loss: 0.2861 - val_accuracy: 0.9167\n",
      "Epoch 17/50\n",
      "44800/44800 [==============================] - 9s 211us/sample - loss: 0.2435 - accuracy: 0.9309 - val_loss: 0.2851 - val_accuracy: 0.9182\n",
      "Epoch 18/50\n",
      "44800/44800 [==============================] - 9s 207us/sample - loss: 0.2426 - accuracy: 0.9313 - val_loss: 0.2877 - val_accuracy: 0.9154\n",
      "Epoch 19/50\n",
      "44800/44800 [==============================] - 8s 181us/sample - loss: 0.2436 - accuracy: 0.9302 - val_loss: 0.2837 - val_accuracy: 0.9177\n",
      "Epoch 20/50\n",
      "44800/44800 [==============================] - 8s 179us/sample - loss: 0.2424 - accuracy: 0.9308 - val_loss: 0.2788 - val_accuracy: 0.9175\n",
      "Epoch 21/50\n",
      "44800/44800 [==============================] - 8s 185us/sample - loss: 0.2409 - accuracy: 0.9307 - val_loss: 0.2808 - val_accuracy: 0.9208\n",
      "Epoch 22/50\n",
      "44800/44800 [==============================] - 8s 185us/sample - loss: 0.2404 - accuracy: 0.9308 - val_loss: 0.2817 - val_accuracy: 0.9209\n",
      "Epoch 23/50\n",
      "44800/44800 [==============================] - 8s 184us/sample - loss: 0.2408 - accuracy: 0.9315 - val_loss: 0.2849 - val_accuracy: 0.9172\n",
      "Epoch 24/50\n",
      "44800/44800 [==============================] - 8s 183us/sample - loss: 0.2395 - accuracy: 0.9318 - val_loss: 0.2823 - val_accuracy: 0.9188\n",
      "Epoch 25/50\n",
      "44800/44800 [==============================] - 9s 190us/sample - loss: 0.2403 - accuracy: 0.9312 - val_loss: 0.2774 - val_accuracy: 0.9188\n",
      "Epoch 26/50\n",
      "44800/44800 [==============================] - 8s 184us/sample - loss: 0.2388 - accuracy: 0.9322 - val_loss: 0.2872 - val_accuracy: 0.9170\n",
      "Epoch 27/50\n",
      "44800/44800 [==============================] - 8s 179us/sample - loss: 0.2386 - accuracy: 0.9322 - val_loss: 0.2847 - val_accuracy: 0.9172\n",
      "Epoch 28/50\n",
      "44800/44800 [==============================] - 8s 178us/sample - loss: 0.2382 - accuracy: 0.9316 - val_loss: 0.2855 - val_accuracy: 0.9184\n",
      "Epoch 29/50\n",
      "44800/44800 [==============================] - 8s 179us/sample - loss: 0.2378 - accuracy: 0.9325 - val_loss: 0.2837 - val_accuracy: 0.9156\n",
      "Epoch 30/50\n",
      "44800/44800 [==============================] - 8s 177us/sample - loss: 0.2375 - accuracy: 0.9323 - val_loss: 0.2854 - val_accuracy: 0.9179\n",
      "Epoch 31/50\n",
      "44800/44800 [==============================] - 8s 176us/sample - loss: 0.2375 - accuracy: 0.9321 - val_loss: 0.2767 - val_accuracy: 0.9196\n",
      "Epoch 32/50\n",
      "44800/44800 [==============================] - 8s 178us/sample - loss: 0.2370 - accuracy: 0.9317 - val_loss: 0.2806 - val_accuracy: 0.9183\n",
      "Epoch 33/50\n",
      "44800/44800 [==============================] - 8s 178us/sample - loss: 0.2365 - accuracy: 0.9324 - val_loss: 0.2896 - val_accuracy: 0.9183\n",
      "Epoch 34/50\n",
      "44800/44800 [==============================] - 9s 190us/sample - loss: 0.2371 - accuracy: 0.9324 - val_loss: 0.2773 - val_accuracy: 0.9203\n",
      "Epoch 35/50\n",
      "44800/44800 [==============================] - 9s 201us/sample - loss: 0.2355 - accuracy: 0.9323 - val_loss: 0.2852 - val_accuracy: 0.9196\n",
      "Epoch 36/50\n",
      "44800/44800 [==============================] - 8s 179us/sample - loss: 0.2359 - accuracy: 0.9327 - val_loss: 0.2737 - val_accuracy: 0.9197\n",
      "Epoch 37/50\n",
      "44800/44800 [==============================] - 8s 178us/sample - loss: 0.2358 - accuracy: 0.9325 - val_loss: 0.2808 - val_accuracy: 0.9216\n",
      "Epoch 38/50\n",
      "44800/44800 [==============================] - 8s 176us/sample - loss: 0.2351 - accuracy: 0.9341 - val_loss: 0.2831 - val_accuracy: 0.9198\n",
      "Epoch 39/50\n",
      "44800/44800 [==============================] - 8s 174us/sample - loss: 0.2351 - accuracy: 0.9323 - val_loss: 0.2773 - val_accuracy: 0.9197\n",
      "Epoch 40/50\n",
      "44800/44800 [==============================] - 8s 177us/sample - loss: 0.2361 - accuracy: 0.9329 - val_loss: 0.2790 - val_accuracy: 0.9203\n",
      "Epoch 41/50\n",
      "44800/44800 [==============================] - 8s 174us/sample - loss: 0.2347 - accuracy: 0.9331 - val_loss: 0.2752 - val_accuracy: 0.9217\n",
      "Epoch 42/50\n",
      "44800/44800 [==============================] - 8s 173us/sample - loss: 0.2345 - accuracy: 0.9326 - val_loss: 0.2739 - val_accuracy: 0.9223\n",
      "Epoch 43/50\n",
      "44800/44800 [==============================] - 8s 173us/sample - loss: 0.2355 - accuracy: 0.9336 - val_loss: 0.2786 - val_accuracy: 0.9204\n",
      "Epoch 44/50\n",
      "44800/44800 [==============================] - 8s 173us/sample - loss: 0.2351 - accuracy: 0.9325 - val_loss: 0.2819 - val_accuracy: 0.9183\n",
      "Epoch 45/50\n",
      "44800/44800 [==============================] - 8s 174us/sample - loss: 0.2340 - accuracy: 0.9338 - val_loss: 0.2779 - val_accuracy: 0.9213\n",
      "Epoch 46/50\n",
      "44800/44800 [==============================] - 8s 173us/sample - loss: 0.2347 - accuracy: 0.9332 - val_loss: 0.2798 - val_accuracy: 0.9203\n",
      "Epoch 47/50\n",
      "44800/44800 [==============================] - 8s 175us/sample - loss: 0.2336 - accuracy: 0.9333 - val_loss: 0.2863 - val_accuracy: 0.9199\n",
      "Epoch 48/50\n",
      "44800/44800 [==============================] - 8s 174us/sample - loss: 0.2351 - accuracy: 0.9333 - val_loss: 0.2806 - val_accuracy: 0.9195\n",
      "Epoch 49/50\n",
      "44800/44800 [==============================] - 8s 175us/sample - loss: 0.2335 - accuracy: 0.9334 - val_loss: 0.2884 - val_accuracy: 0.9158\n",
      "Epoch 50/50\n",
      "44800/44800 [==============================] - 8s 178us/sample - loss: 0.2338 - accuracy: 0.9328 - val_loss: 0.2842 - val_accuracy: 0.9196\n",
      "Time:  423.64112346\n"
     ]
    }
   ],
   "source": [
    "#3) Momentum\n",
    "model.compile(optimizer=tf.keras.optimizers.SGD(learning_rate=0.01, momentum=0.8), loss='categorical_crossentropy',metrics=['accuracy'])\n",
    "\n",
    "# Start running time\n",
    "start = timeit.default_timer()\n",
    "\n",
    "# Train the model for 50 epochs using SGD Momentum =  0.8\n",
    "momentum_metrics = model.fit(X_train, Y_train, batch_size=32, epochs=50, validation_data=(X_val, Y_val), callbacks=[log3])\n",
    "\n",
    "callbacks.append(CSVLogger(log3))\n",
    "\n",
    "# Stop running time\n",
    "stop = timeit.default_timer()\n",
    "\n",
    "print(\"Time: \", stop - start) # Time:  363.1876358380032s"
   ]
  },
  {
   "cell_type": "markdown",
   "metadata": {},
   "source": [
    "### Momentum Optimizer Performance Metrics:\n",
    "\n",
    "* Overall validation accuracy: 0.9804\n",
    "* Test accuracy: 1.0000\n",
    "* Training time: 6.1 mins\n",
    "* Training loss: 0.0019\n",
    "* Validation loss: 0.0751"
   ]
  },
  {
   "cell_type": "code",
   "execution_count": 49,
   "metadata": {},
   "outputs": [
    {
     "name": "stdout",
     "output_type": "stream",
     "text": [
      "Train on 44800 samples, validate on 11200 samples\n",
      "Epoch 1/50\n",
      "44800/44800 [==============================] - 11s 240us/sample - loss: 0.4042 - accuracy: 0.9110 - val_loss: 0.3487 - val_accuracy: 0.9338\n",
      "Epoch 2/50\n",
      "44800/44800 [==============================] - 11s 236us/sample - loss: 0.3971 - accuracy: 0.9166 - val_loss: 0.3861 - val_accuracy: 0.9241\n",
      "Epoch 3/50\n",
      "44800/44800 [==============================] - 11s 235us/sample - loss: 0.3953 - accuracy: 0.9225 - val_loss: 0.3389 - val_accuracy: 0.9330\n",
      "Epoch 4/50\n",
      "44800/44800 [==============================] - 11s 235us/sample - loss: 0.3757 - accuracy: 0.9246 - val_loss: 0.3593 - val_accuracy: 0.9308\n",
      "Epoch 5/50\n",
      "44800/44800 [==============================] - 11s 234us/sample - loss: 0.3777 - accuracy: 0.9252 - val_loss: 0.4089 - val_accuracy: 0.9226\n",
      "Epoch 6/50\n",
      "44800/44800 [==============================] - 11s 237us/sample - loss: 0.3666 - accuracy: 0.9289 - val_loss: 0.3629 - val_accuracy: 0.9341\n",
      "Epoch 7/50\n",
      "44800/44800 [==============================] - 10s 234us/sample - loss: 0.3668 - accuracy: 0.9304 - val_loss: 0.3230 - val_accuracy: 0.9409\n",
      "Epoch 8/50\n",
      "44800/44800 [==============================] - 11s 235us/sample - loss: 0.3683 - accuracy: 0.9285 - val_loss: 0.3517 - val_accuracy: 0.9334\n",
      "Epoch 9/50\n",
      "44800/44800 [==============================] - 10s 234us/sample - loss: 0.3508 - accuracy: 0.9331 - val_loss: 0.3331 - val_accuracy: 0.9373\n",
      "Epoch 10/50\n",
      "44800/44800 [==============================] - 11s 249us/sample - loss: 0.3607 - accuracy: 0.9311 - val_loss: 0.3245 - val_accuracy: 0.9423\n",
      "Epoch 11/50\n",
      "44800/44800 [==============================] - 10s 234us/sample - loss: 0.3455 - accuracy: 0.9350 - val_loss: 0.4069 - val_accuracy: 0.9303\n",
      "Epoch 12/50\n",
      "44800/44800 [==============================] - 10s 234us/sample - loss: 0.3418 - accuracy: 0.9358 - val_loss: 0.4953 - val_accuracy: 0.8817\n",
      "Epoch 13/50\n",
      "44800/44800 [==============================] - 10s 234us/sample - loss: 0.3356 - accuracy: 0.9364 - val_loss: 0.3334 - val_accuracy: 0.9416\n",
      "Epoch 14/50\n",
      "44800/44800 [==============================] - 10s 234us/sample - loss: 0.3358 - accuracy: 0.9372 - val_loss: 0.3825 - val_accuracy: 0.9351\n",
      "Epoch 15/50\n",
      "44800/44800 [==============================] - 10s 234us/sample - loss: 0.3280 - accuracy: 0.9385 - val_loss: 0.3328 - val_accuracy: 0.9381\n",
      "Epoch 16/50\n",
      "44800/44800 [==============================] - 10s 233us/sample - loss: 0.3171 - accuracy: 0.9404 - val_loss: 0.3903 - val_accuracy: 0.9222\n",
      "Epoch 17/50\n",
      "44800/44800 [==============================] - 11s 256us/sample - loss: 0.3306 - accuracy: 0.9379 - val_loss: 0.3418 - val_accuracy: 0.9417\n",
      "Epoch 18/50\n",
      "44800/44800 [==============================] - 11s 246us/sample - loss: 0.3262 - accuracy: 0.9398 - val_loss: 0.3121 - val_accuracy: 0.9457\n",
      "Epoch 19/50\n",
      "44800/44800 [==============================] - 10s 233us/sample - loss: 0.3219 - accuracy: 0.9395 - val_loss: 0.3902 - val_accuracy: 0.9314\n",
      "Epoch 20/50\n",
      "44800/44800 [==============================] - 11s 235us/sample - loss: 0.3266 - accuracy: 0.9388 - val_loss: 0.3997 - val_accuracy: 0.9309\n",
      "Epoch 21/50\n",
      "44800/44800 [==============================] - 11s 235us/sample - loss: 0.3158 - accuracy: 0.9424 - val_loss: 0.4690 - val_accuracy: 0.9100\n",
      "Epoch 22/50\n",
      "44800/44800 [==============================] - 10s 234us/sample - loss: 0.3181 - accuracy: 0.9411 - val_loss: 0.2994 - val_accuracy: 0.9488\n",
      "Epoch 23/50\n",
      "44800/44800 [==============================] - 10s 233us/sample - loss: 0.3192 - accuracy: 0.9412 - val_loss: 0.3868 - val_accuracy: 0.9312\n",
      "Epoch 24/50\n",
      "44800/44800 [==============================] - 10s 234us/sample - loss: 0.3137 - accuracy: 0.9396 - val_loss: 0.3103 - val_accuracy: 0.9420\n",
      "Epoch 25/50\n",
      "44800/44800 [==============================] - 10s 233us/sample - loss: 0.3194 - accuracy: 0.9422 - val_loss: 0.3018 - val_accuracy: 0.9503\n",
      "Epoch 26/50\n",
      "44800/44800 [==============================] - 11s 235us/sample - loss: 0.3159 - accuracy: 0.9420 - val_loss: 0.2815 - val_accuracy: 0.9518\n",
      "Epoch 27/50\n",
      "44800/44800 [==============================] - 10s 233us/sample - loss: 0.3083 - accuracy: 0.9432 - val_loss: 0.7376 - val_accuracy: 0.8234\n",
      "Epoch 28/50\n",
      "44800/44800 [==============================] - 11s 235us/sample - loss: 0.3070 - accuracy: 0.9417 - val_loss: 0.3771 - val_accuracy: 0.9388\n",
      "Epoch 29/50\n",
      "44800/44800 [==============================] - 10s 233us/sample - loss: 0.3116 - accuracy: 0.9425 - val_loss: 0.3343 - val_accuracy: 0.9403\n",
      "Epoch 30/50\n",
      "44800/44800 [==============================] - 10s 233us/sample - loss: 0.3084 - accuracy: 0.9429 - val_loss: 0.3108 - val_accuracy: 0.9458\n",
      "Epoch 31/50\n",
      "44800/44800 [==============================] - 11s 237us/sample - loss: 0.2993 - accuracy: 0.9445 - val_loss: 0.3536 - val_accuracy: 0.9423\n",
      "Epoch 32/50\n",
      "44800/44800 [==============================] - 11s 236us/sample - loss: 0.2961 - accuracy: 0.9453 - val_loss: 0.3274 - val_accuracy: 0.9455\n",
      "Epoch 33/50\n",
      "44800/44800 [==============================] - 11s 236us/sample - loss: 0.3006 - accuracy: 0.9443 - val_loss: 0.3105 - val_accuracy: 0.9449\n",
      "Epoch 34/50\n",
      "44800/44800 [==============================] - 11s 237us/sample - loss: 0.2898 - accuracy: 0.9469 - val_loss: 0.3781 - val_accuracy: 0.9342\n",
      "Epoch 35/50\n",
      "44800/44800 [==============================] - 10s 234us/sample - loss: 0.2955 - accuracy: 0.9460 - val_loss: 0.3899 - val_accuracy: 0.9289\n",
      "Epoch 36/50\n",
      "44800/44800 [==============================] - 11s 235us/sample - loss: 0.2936 - accuracy: 0.9464 - val_loss: 0.3336 - val_accuracy: 0.9453\n",
      "Epoch 37/50\n",
      "44800/44800 [==============================] - 10s 233us/sample - loss: 0.2858 - accuracy: 0.9478 - val_loss: 0.2869 - val_accuracy: 0.9538\n",
      "Epoch 38/50\n",
      "44800/44800 [==============================] - 10s 233us/sample - loss: 0.2887 - accuracy: 0.9474 - val_loss: 0.3355 - val_accuracy: 0.9439\n",
      "Epoch 39/50\n",
      "44800/44800 [==============================] - 11s 250us/sample - loss: 0.2887 - accuracy: 0.9476 - val_loss: 0.3201 - val_accuracy: 0.9470\n",
      "Epoch 40/50\n",
      "44800/44800 [==============================] - 11s 235us/sample - loss: 0.2870 - accuracy: 0.9483 - val_loss: 0.3334 - val_accuracy: 0.9424\n",
      "Epoch 41/50\n",
      "44800/44800 [==============================] - 10s 234us/sample - loss: 0.2849 - accuracy: 0.9484 - val_loss: 0.3112 - val_accuracy: 0.9466\n",
      "Epoch 42/50\n",
      "44800/44800 [==============================] - 11s 235us/sample - loss: 0.2879 - accuracy: 0.9498 - val_loss: 0.3415 - val_accuracy: 0.9424\n",
      "Epoch 43/50\n",
      "44800/44800 [==============================] - 11s 236us/sample - loss: 0.2748 - accuracy: 0.9504 - val_loss: 0.3333 - val_accuracy: 0.9449\n",
      "Epoch 44/50\n",
      "44800/44800 [==============================] - 10s 233us/sample - loss: 0.2767 - accuracy: 0.9510 - val_loss: 0.3137 - val_accuracy: 0.9453\n",
      "Epoch 45/50\n",
      "44800/44800 [==============================] - 11s 241us/sample - loss: 0.2824 - accuracy: 0.9488 - val_loss: 0.3483 - val_accuracy: 0.9427\n",
      "Epoch 46/50\n",
      "44800/44800 [==============================] - 11s 236us/sample - loss: 0.2817 - accuracy: 0.9494 - val_loss: 0.2795 - val_accuracy: 0.9528\n",
      "Epoch 47/50\n",
      "44800/44800 [==============================] - 11s 256us/sample - loss: 0.2792 - accuracy: 0.9502 - val_loss: 0.2976 - val_accuracy: 0.9508\n",
      "Epoch 48/50\n",
      "44800/44800 [==============================] - 10s 234us/sample - loss: 0.2707 - accuracy: 0.9514 - val_loss: 0.3443 - val_accuracy: 0.9462\n",
      "Epoch 49/50\n",
      "44800/44800 [==============================] - 11s 235us/sample - loss: 0.2773 - accuracy: 0.9506 - val_loss: 0.2663 - val_accuracy: 0.9546\n",
      "Epoch 50/50\n",
      "44800/44800 [==============================] - 10s 234us/sample - loss: 0.2674 - accuracy: 0.9529 - val_loss: 0.2426 - val_accuracy: 0.9576\n",
      "Time:  530.2886888310004\n"
     ]
    }
   ],
   "source": [
    "#4) RMSprop\n",
    "model.compile(optimizer=tf.keras.optimizers.RMSprop(learning_rate=0.01), loss='categorical_crossentropy',metrics=['accuracy'])\n",
    "\n",
    "# Start running time\n",
    "start = timeit.default_timer()\n",
    "\n",
    "# Train the model for 50 epochs using RMSprop\n",
    "rmsProp_metrics = model.fit(X_train, Y_train, batch_size=32, epochs=50, validation_data=(X_val, Y_val), callbacks=[log4])\n",
    "\n",
    "callbacks.append(CSVLogger(log4))\n",
    "\n",
    "# Stop running time\n",
    "stop = timeit.default_timer()\n",
    "\n",
    "print(\"Time: \", stop - start) # Time:  626.6540165769984"
   ]
  },
  {
   "cell_type": "markdown",
   "metadata": {},
   "source": [
    "### RMSprop Optimizer Performance Metrics:\n",
    "\n",
    "* Overall validation accuracy: 0.9591\n",
    "* Test accuracy: 0.95585\n",
    "* Training time: 10.4 mins\n",
    "* Training loss: 0.2278\n",
    "* Validation loss: 0.2333"
   ]
  },
  {
   "cell_type": "markdown",
   "metadata": {},
   "source": [
    "### Image Augmentation"
   ]
  },
  {
   "cell_type": "code",
   "execution_count": 50,
   "metadata": {},
   "outputs": [
    {
     "data": {
      "text/plain": [
       "<matplotlib.image.AxesImage at 0x7fe6d0694668>"
      ]
     },
     "execution_count": 50,
     "metadata": {},
     "output_type": "execute_result"
    },
    {
     "data": {
      "image/png": "[encoded data removed]",
      "text/plain": [
       "<Figure size 432x288 with 1 Axes>"
      ]
     },
     "metadata": {
      "needs_background": "light"
     },
     "output_type": "display_data"
    }
   ],
   "source": [
    "test_image = x_train[0]\n",
    "plt.imshow(test_image)"
   ]
  },
  {
   "cell_type": "code",
   "execution_count": 51,
   "metadata": {},
   "outputs": [
    {
     "data": {
      "text/plain": [
       "<matplotlib.image.AxesImage at 0x7fe7181e8780>"
      ]
     },
     "execution_count": 51,
     "metadata": {},
     "output_type": "execute_result"
    },
    {
     "data": {
      "image/png": "[encoded data removed]",
      "text/plain": [
       "<Figure size 432x288 with 1 Axes>"
      ]
     },
     "metadata": {
      "needs_background": "light"
     },
     "output_type": "display_data"
    }
   ],
   "source": [
    "# Flipping images vertically with Numpy\n",
    "flipped_vertical = np.fliplr(test_image)\n",
    "plt.imshow(flipped_vertical)"
   ]
  },
  {
   "cell_type": "code",
   "execution_count": 52,
   "metadata": {},
   "outputs": [
    {
     "data": {
      "text/plain": [
       "<matplotlib.image.AxesImage at 0x7fe6d019f2b0>"
      ]
     },
     "execution_count": 52,
     "metadata": {},
     "output_type": "execute_result"
    },
    {
     "data": {
      "image/png": "[encoded data removed]",
      "text/plain": [
       "<Figure size 432x288 with 1 Axes>"
      ]
     },
     "metadata": {
      "needs_background": "light"
     },
     "output_type": "display_data"
    }
   ],
   "source": [
    "# Flipping images horizontally with Numpy\n",
    "flipped_horizontal = np.flip(test_image)\n",
    "plt.imshow(flipped_horizontal)"
   ]
  },
  {
   "cell_type": "code",
   "execution_count": 53,
   "metadata": {},
   "outputs": [
    {
     "data": {
      "text/plain": [
       "<matplotlib.image.AxesImage at 0x7fe6d0645e10>"
      ]
     },
     "execution_count": 53,
     "metadata": {},
     "output_type": "execute_result"
    },
    {
     "data": {
      "image/png": "[encoded data removed]",
      "text/plain": [
       "<Figure size 432x288 with 1 Axes>"
      ]
     },
     "metadata": {
      "needs_background": "light"
     },
     "output_type": "display_data"
    }
   ],
   "source": [
    "# Rotate imagges 45 degrees, 7 times, clockwise\n",
    "rotated_img = np.rot90(test_image)\n",
    "plt.imshow(rotated_img)"
   ]
  },
  {
   "cell_type": "code",
   "execution_count": 54,
   "metadata": {},
   "outputs": [
    {
     "data": {
      "text/plain": [
       "<matplotlib.image.AxesImage at 0x7fe6c25549b0>"
      ]
     },
     "execution_count": 54,
     "metadata": {},
     "output_type": "execute_result"
    },
    {
     "data": {
      "image/png": "[encoded data removed]",
      "text/plain": [
       "<Figure size 432x288 with 1 Axes>"
      ]
     },
     "metadata": {
      "needs_background": "light"
     },
     "output_type": "display_data"
    }
   ],
   "source": [
    "# Rotate images using Scikit-Image: 'angle' = Degrees, 'img' = Input Image\n",
    "# Rotate imagges 45 degrees, 7 times, counterclockwise = 315 degrees or clockwise = -45 (counterclock)\n",
    "from skimage import transform\n",
    "\n",
    "rot1 = transform.rotate(test_image, angle=315)\n",
    "plt.imshow(rot1)"
   ]
  },
  {
   "cell_type": "code",
   "execution_count": 55,
   "metadata": {},
   "outputs": [],
   "source": [
    "from skimage import transform\n",
    "\n",
    "# Store X_train augmented images to list\n",
    "augmented_images = []\n",
    "\n",
    "for i in range(x_train.shape[0]):\n",
    "    flip_v = np.fliplr(x_train[i]) # flips images vertically\n",
    "    flip_h = np.flip(x_train[i]) # flips images horizontally\n",
    "    rot1 = transform.rotate(x_train[i], angle=315) # Rotate images 45 degrees = 315 (clockwise) \n",
    "    rot2 = transform.rotate(x_train[i], angle=270)\n",
    "    rot3 = transform.rotate(x_train[i], angle=225)\n",
    "    rot4 = transform.rotate(x_train[i], angle=180)\n",
    "    rot5 = transform.rotate(x_train[i], angle=135)\n",
    "    rot6 = transform.rotate(x_train[i], angle=90)\n",
    "    rot7 = transform.rotate(x_train[i], angle=45)\n",
    "    \n",
    "    # Append all new images to list of augmented_images_Xtrain\n",
    "    augmented_images.append(flip_v)\n",
    "    augmented_images.append(flip_h)\n",
    "    augmented_images.append(rot1)\n",
    "    augmented_images.append(rot2)\n",
    "    augmented_images.append(rot3)\n",
    "    augmented_images.append(rot4)\n",
    "    augmented_images.append(rot5)\n",
    "    augmented_images.append(rot6)\n",
    "    augmented_images.append(rot7)\n",
    "                              "
   ]
  },
  {
   "cell_type": "code",
   "execution_count": 56,
   "metadata": {},
   "outputs": [
    {
     "name": "stdout",
     "output_type": "stream",
     "text": [
      "(504000, 28, 28)\n"
     ]
    }
   ],
   "source": [
    "# Convert list of augmented images to numpy array\n",
    "aug_train_images_arr = np.asarray(augmented_images)\n",
    "print(aug_train_images_arr.shape)"
   ]
  },
  {
   "cell_type": "code",
   "execution_count": 57,
   "metadata": {},
   "outputs": [
    {
     "name": "stdout",
     "output_type": "stream",
     "text": [
      "(504000, 784)\n"
     ]
    }
   ],
   "source": [
    "# Reshape augmented images array to 784\n",
    "aug_img_train = aug_train_images_arr.reshape(aug_train_images_arr.shape[0], 784)\n",
    "print(aug_img_train.shape)"
   ]
  },
  {
   "cell_type": "code",
   "execution_count": 58,
   "metadata": {},
   "outputs": [
    {
     "data": {
      "text/plain": [
       "(548800, 784)"
      ]
     },
     "execution_count": 58,
     "metadata": {},
     "output_type": "execute_result"
    }
   ],
   "source": [
    "# Combine augmented images to current training set, X_train\n",
    "new_Xtrain = np.concatenate((aug_img_train, X_train))\n",
    "new_Xtrain.shape"
   ]
  },
  {
   "cell_type": "code",
   "execution_count": 59,
   "metadata": {},
   "outputs": [
    {
     "data": {
      "text/plain": [
       "(548800, 10)"
      ]
     },
     "execution_count": 59,
     "metadata": {},
     "output_type": "execute_result"
    }
   ],
   "source": [
    "# Augment the y_train\n",
    "N = 9 # number of times to clone the y_train array\n",
    "aug_Ytrain = np.vstack([y_train]*N)\n",
    "\n",
    "# One-hot enocode aug_Ytrain\n",
    "n_classes = 10\n",
    "one_hot_Ytrain = np_utils.to_categorical(aug_Ytrain, n_classes)\n",
    "\n",
    "# Combine augmented y_train labels to current y_train\n",
    "new_Ytrain = np.concatenate((one_hot_Ytrain, Y_train))\n",
    "new_Ytrain.shape"
   ]
  },
  {
   "cell_type": "code",
   "execution_count": 60,
   "metadata": {},
   "outputs": [],
   "source": [
    "# Initialize the constructor\n",
    "model2 = Sequential()\n",
    "\n",
    "# Add an input layer with 784 neurons and tanh activation\n",
    "model2.add(Dense(num_features, activation='tanh', input_shape=(num_features,)))\n",
    "\n",
    "# Add one hidden layer with 256 neurons and tanh activation\n",
    "model2.add(Dense(num_layers_2, activation='tanh'))\n",
    "\n",
    "# Add an output layer with 10 neurons and softmax activation \n",
    "model2.add(Dense(num_output, activation='softmax'))\n",
    "\n",
    "# Use Momentum (performed the best with trainig data)\n",
    "model2.compile(optimizer=tf.keras.optimizers.SGD(learning_rate=0.01, momentum=0.8), loss='categorical_crossentropy')"
   ]
  },
  {
   "cell_type": "code",
   "execution_count": 61,
   "metadata": {},
   "outputs": [
    {
     "name": "stdout",
     "output_type": "stream",
     "text": [
      "Epoch 1/50\n",
      "548800/548800 [==============================] - 38s 69us/sample - loss: 2.2652\n",
      "Epoch 2/50\n",
      "548800/548800 [==============================] - 38s 68us/sample - loss: 2.2152\n",
      "Epoch 3/50\n",
      "548800/548800 [==============================] - 38s 70us/sample - loss: 2.1929\n",
      "Epoch 4/50\n",
      "548800/548800 [==============================] - 38s 69us/sample - loss: 2.1813\n",
      "Epoch 5/50\n",
      "548800/548800 [==============================] - 38s 69us/sample - loss: 2.1744\n",
      "Epoch 6/50\n",
      "548800/548800 [==============================] - 39s 70us/sample - loss: 2.1689\n",
      "Epoch 7/50\n",
      "548800/548800 [==============================] - 37s 68us/sample - loss: 2.1653\n",
      "Epoch 8/50\n",
      "548800/548800 [==============================] - 37s 68us/sample - loss: 2.1620\n",
      "Epoch 9/50\n",
      "548800/548800 [==============================] - 38s 69us/sample - loss: 2.1592\n",
      "Epoch 10/50\n",
      "548800/548800 [==============================] - 37s 68us/sample - loss: 2.1566\n",
      "Epoch 11/50\n",
      "548800/548800 [==============================] - 38s 68us/sample - loss: 2.1546\n",
      "Epoch 12/50\n",
      "548800/548800 [==============================] - 38s 69us/sample - loss: 2.1527\n",
      "Epoch 13/50\n",
      "548800/548800 [==============================] - 38s 69us/sample - loss: 2.1508\n",
      "Epoch 14/50\n",
      "548800/548800 [==============================] - 38s 70us/sample - loss: 2.1490\n",
      "Epoch 15/50\n",
      "548800/548800 [==============================] - 37s 68us/sample - loss: 2.1478\n",
      "Epoch 16/50\n",
      "548800/548800 [==============================] - 38s 68us/sample - loss: 2.1457\n",
      "Epoch 17/50\n",
      "548800/548800 [==============================] - 38s 69us/sample - loss: 2.1449\n",
      "Epoch 18/50\n",
      "448640/548800 [=======================>......] - ETA: 6s - loss: 2.1430"
     ]
    }
   ],
   "source": [
    "# Train the model for 50 epochs with the augmented images training data \n",
    "model2.fit(new_Xtrain, new_Ytrain, batch_size=128, epochs=50)"
   ]
  },
  {
   "cell_type": "code",
   "execution_count": 62,
   "metadata": {},
   "outputs": [],
   "source": [
    "# Make predictions using X_test\n",
    "y_pred_aug_data = model2.predict_classes(X_test)\n",
    "\n",
    "# Reshape predictions array (22800,1)\n",
    "y_pred_aug_data = y_pred_aug_data.reshape(-1,1)"
   ]
  },
  {
   "cell_type": "code",
   "execution_count": 63,
   "metadata": {},
   "outputs": [
    {
     "data": {
      "text/html": [
       "<div>\n",
       "<style scoped>\n",
       "    .dataframe tbody tr th:only-of-type {\n",
       "        vertical-align: middle;\n",
       "    }\n",
       "\n",
       "    .dataframe tbody tr th {\n",
       "        vertical-align: top;\n",
       "    }\n",
       "\n",
       "    .dataframe thead th {\n",
       "        text-align: right;\n",
       "    }\n",
       "</style>\n",
       "<table border=\"1\" class=\"dataframe\">\n",
       "  <thead>\n",
       "    <tr style=\"text-align: right;\">\n",
       "      <th></th>\n",
       "      <th>Y_Pred</th>\n",
       "    </tr>\n",
       "  </thead>\n",
       "  <tbody>\n",
       "    <tr>\n",
       "      <td>0</td>\n",
       "      <td>1</td>\n",
       "    </tr>\n",
       "    <tr>\n",
       "      <td>1</td>\n",
       "      <td>2</td>\n",
       "    </tr>\n",
       "    <tr>\n",
       "      <td>2</td>\n",
       "      <td>9</td>\n",
       "    </tr>\n",
       "    <tr>\n",
       "      <td>3</td>\n",
       "      <td>8</td>\n",
       "    </tr>\n",
       "    <tr>\n",
       "      <td>4</td>\n",
       "      <td>5</td>\n",
       "    </tr>\n",
       "  </tbody>\n",
       "</table>\n",
       "</div>"
      ],
      "text/plain": [
       "   Y_Pred\n",
       "0       1\n",
       "1       2\n",
       "2       9\n",
       "3       8\n",
       "4       5"
      ]
     },
     "execution_count": 63,
     "metadata": {},
     "output_type": "execute_result"
    }
   ],
   "source": [
    "# Convert y_pred 1D Numpy Array to List\n",
    "y_pred_aug_data = y_pred_aug_data.tolist()\n",
    "\n",
    "# Flatten list of lists\n",
    "y_pred_aug_flat = list(np.concatenate(y_pred_aug_data))\n",
    "\n",
    "predictions2 = pd.DataFrame({\"Y_Pred\": y_pred_aug_flat})\n",
    "predictions2.head()"
   ]
  },
  {
   "cell_type": "code",
   "execution_count": 64,
   "metadata": {},
   "outputs": [],
   "source": [
    "# Save predictions2 to CSV file\n",
    "predictions2.to_csv('Q4_prediction_with_augmenation.csv')"
   ]
  },
  {
   "cell_type": "code",
   "execution_count": null,
   "metadata": {},
   "outputs": [],
   "source": []
  }
 ],
 "metadata": {
  "kernelspec": {
   "display_name": "Python 3",
   "language": "python",
   "name": "python3"
  },
  "language_info": {
   "codemirror_mode": {
    "name": "ipython",
    "version": 3
   },
   "file_extension": ".py",
   "mimetype": "text/x-python",
   "name": "python",
   "nbconvert_exporter": "python",
   "pygments_lexer": "ipython3",
   "version": "3.6.6"
  }
 },
 "nbformat": 4,
 "nbformat_minor": 1
}
